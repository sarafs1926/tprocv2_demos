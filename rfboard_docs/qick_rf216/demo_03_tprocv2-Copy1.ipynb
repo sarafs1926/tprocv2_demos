{
 "cells": [
  {
   "cell_type": "markdown",
   "id": "823bcb5d-c81d-4e53-a036-20b2eaae2ebd",
   "metadata": {},
   "source": [
    "## Overview of the loopback notebook\n",
    "The following notebook goes through loopback tests with the QICK RF Board. The RF board has two programmable, 30 dB attenuators for each DAC channel and one programmable, 30 dB attenuator for each ADC channel. Each DAC and ADC channel have one programmable bandpass filter as well. The loopback program can be used to check that the attenuators and filters are operating properly, and generally, for users to familiarize themseleves with the operational characteristics of the RF board. \n",
    "\n",
    "## Functionality of QICK firmware\n",
    "\n",
    "The following notebook uses the tProcessorv2 firmware. Some introductory documentation on the software functionality of tProcessorv2 can be found here https://github.com/openquantumhardware/QCE2024/blob/main/demos_firmware/02_qce24.ipynb. \n",
    "\n",
    "Introductory documentation for the tProcessorv1 firmware, which as a very similar syntax to v2, and more comprehensive documentation can be found here https://github.com/openquantumhardware/qick/blob/main/qick_demos/00_Send_receive_pulse.ipynb. The loopback program can be used with either version with appropiate syntax."
   ]
  },
  {
   "cell_type": "code",
   "execution_count": null,
   "id": "86451309-032d-4fa0-9c44-03d265a1318c",
   "metadata": {},
   "outputs": [],
   "source": [
    "# jupyter setup boilerplate\n",
    "%matplotlib inline\n",
    "import matplotlib.pyplot as plt\n",
    "import numpy as np\n",
    "\n",
    "from tqdm.auto import tqdm\n",
    "\n",
    "from qick import *\n",
    "from qick.rfboard import RFQickSoc216V1\n",
    "\n",
    "# for now, all the tProc v2 classes need to be individually imported (can't use qick.*)\n",
    "\n",
    "# the main program class\n",
    "from qick.asm_v2 import AveragerProgramV2\n",
    "# for defining sweeps\n",
    "from qick.asm_v2 import QickSweep1D"
   ]
  },
  {
   "cell_type": "code",
   "execution_count": 57,
   "id": "0d52df3c",
   "metadata": {},
   "outputs": [
    {
     "name": "stdout",
     "output_type": "stream",
     "text": [
      "QICK running on ZCU216, software version 0.2.296\n",
      "\n",
      "Firmware configuration (built Sat Sep 28 20:39:53 2024):\n",
      "\n",
      "\tGlobal clocks (MHz): tProcessor 430.080, RF reference 245.760\n",
      "\n",
      "\t16 signal generator channels:\n",
      "\t0:\taxis_signal_gen_v6 - envelope memory 65536 samples (6.838 us)\n",
      "\t\tfs=9584.640 MHz, fabric=599.040 MHz, 32-bit DDS, range=9584.640 MHz\n",
      "\t\tDAC tile 0, blk 0 is 0_228, on JHC1\n",
      "\t1:\taxis_signal_gen_v6 - envelope memory 16384 samples (1.709 us)\n",
      "\t\tfs=9584.640 MHz, fabric=599.040 MHz, 32-bit DDS, range=9584.640 MHz\n",
      "\t\tDAC tile 0, blk 1 is 1_228, on JHC2\n",
      "\t2:\taxis_signal_gen_v6 - envelope memory 32768 samples (3.419 us)\n",
      "\t\tfs=9584.640 MHz, fabric=599.040 MHz, 32-bit DDS, range=9584.640 MHz\n",
      "\t\tDAC tile 0, blk 2 is 2_228, on JHC1\n",
      "\t3:\taxis_signal_gen_v6 - envelope memory 16384 samples (1.709 us)\n",
      "\t\tfs=9584.640 MHz, fabric=599.040 MHz, 32-bit DDS, range=9584.640 MHz\n",
      "\t\tDAC tile 0, blk 3 is 3_228, on JHC2\n",
      "\t4:\taxis_sg_mixmux8_v1 - envelope memory 0 samples (0.000 us)\n",
      "\t\tfs=6881.280 MHz, fabric=430.080 MHz, 32-bit DDS, range=1720.320 MHz\n",
      "\t\tDAC tile 1, blk 0 is 0_229, on JHC1\n",
      "\t5:\taxis_sg_int4_v2 - envelope memory 16384 samples (38.095 us)\n",
      "\t\tfs=6881.280 MHz, fabric=430.080 MHz, 32-bit DDS, range=1720.320 MHz\n",
      "\t\tDAC tile 1, blk 1 is 1_229, on JHC2\n",
      "\t6:\taxis_sg_int4_v2 - envelope memory 8192 samples (19.048 us)\n",
      "\t\tfs=6881.280 MHz, fabric=430.080 MHz, 32-bit DDS, range=1720.320 MHz\n",
      "\t\tDAC tile 1, blk 2 is 2_229, on JHC1\n",
      "\t7:\taxis_sg_int4_v2 - envelope memory 16384 samples (38.095 us)\n",
      "\t\tfs=6881.280 MHz, fabric=430.080 MHz, 32-bit DDS, range=1720.320 MHz\n",
      "\t\tDAC tile 1, blk 3 is 3_229, on JHC2\n",
      "\t8:\taxis_sg_int4_v2 - envelope memory 8192 samples (19.048 us)\n",
      "\t\tfs=6881.280 MHz, fabric=430.080 MHz, 32-bit DDS, range=1720.320 MHz\n",
      "\t\tDAC tile 2, blk 0 is 0_230, on JHC3\n",
      "\t9:\taxis_sg_int4_v2 - envelope memory 8192 samples (19.048 us)\n",
      "\t\tfs=6881.280 MHz, fabric=430.080 MHz, 32-bit DDS, range=1720.320 MHz\n",
      "\t\tDAC tile 2, blk 1 is 1_230, on JHC4\n",
      "\t10:\taxis_sg_int4_v2 - envelope memory 8192 samples (19.048 us)\n",
      "\t\tfs=6881.280 MHz, fabric=430.080 MHz, 32-bit DDS, range=1720.320 MHz\n",
      "\t\tDAC tile 2, blk 2 is 2_230, on JHC3\n",
      "\t11:\taxis_sg_int4_v2 - envelope memory 8192 samples (19.048 us)\n",
      "\t\tfs=6881.280 MHz, fabric=430.080 MHz, 32-bit DDS, range=1720.320 MHz\n",
      "\t\tDAC tile 2, blk 3 is 3_230, on JHC4\n",
      "\t12:\taxis_sg_int4_v2 - envelope memory 8192 samples (19.048 us)\n",
      "\t\tfs=6881.280 MHz, fabric=430.080 MHz, 32-bit DDS, range=1720.320 MHz\n",
      "\t\tDAC tile 3, blk 0 is 0_231, on JHC3\n",
      "\t13:\taxis_sg_int4_v2 - envelope memory 8192 samples (19.048 us)\n",
      "\t\tfs=6881.280 MHz, fabric=430.080 MHz, 32-bit DDS, range=1720.320 MHz\n",
      "\t\tDAC tile 3, blk 1 is 1_231, on JHC4\n",
      "\t14:\taxis_sg_int4_v2 - envelope memory 8192 samples (19.048 us)\n",
      "\t\tfs=6881.280 MHz, fabric=430.080 MHz, 32-bit DDS, range=1720.320 MHz\n",
      "\t\tDAC tile 3, blk 2 is 2_231, on JHC3\n",
      "\t15:\taxis_sg_int4_v2 - envelope memory 8192 samples (19.048 us)\n",
      "\t\tfs=6881.280 MHz, fabric=430.080 MHz, 32-bit DDS, range=1720.320 MHz\n",
      "\t\tDAC tile 3, blk 3 is 3_231, on JHC4\n",
      "\n",
      "\t10 readout channels:\n",
      "\t0:\taxis_dyn_readout_v1 - configured by tProc output 4\n",
      "\t\tfs=2457.600 MHz, decimated=307.200 MHz, 32-bit DDS, range=2457.600 MHz\n",
      "\t\taxis_avg_buffer v1.0 (no edge counter)\n",
      "\t\tmaxlen 8192 accumulated, 4096 decimated (13.333 us)\n",
      "\t\ttriggered by tport 10, pin 0, feedback to tProc input 0\n",
      "\t\tADC tile 2, blk 0 is 0_226, on JHC7\n",
      "\t1:\taxis_dyn_readout_v1 - configured by tProc output 4\n",
      "\t\tfs=2457.600 MHz, decimated=307.200 MHz, 32-bit DDS, range=2457.600 MHz\n",
      "\t\taxis_avg_buffer v1.0 (no edge counter)\n",
      "\t\tmaxlen 8192 accumulated, 4096 decimated (13.333 us)\n",
      "\t\ttriggered by tport 11, pin 0, feedback to tProc input 1\n",
      "\t\tADC tile 2, blk 2 is 2_226, on JHC7\n",
      "\t2:\taxis_pfb_readout_v4 - configured by PYNQ\n",
      "\t\tfs=2457.600 MHz, decimated=38.400 MHz, 32-bit DDS, range=38.400 MHz\n",
      "\t\taxis_avg_buffer v1.0 (no edge counter)\n",
      "\t\tmaxlen 8192 accumulated, 1024 decimated (26.667 us)\n",
      "\t\ttriggered by tport 12, pin 0, feedback to tProc input 2\n",
      "\t\tADC tile 2, blk 1 is 1_226, on JHC8\n",
      "\t3:\taxis_pfb_readout_v4 - configured by PYNQ\n",
      "\t\tfs=2457.600 MHz, decimated=38.400 MHz, 32-bit DDS, range=38.400 MHz\n",
      "\t\taxis_avg_buffer v1.0 (no edge counter)\n",
      "\t\tmaxlen 8192 accumulated, 1024 decimated (26.667 us)\n",
      "\t\ttriggered by tport 13, pin 0, feedback to tProc input 3\n",
      "\t\tADC tile 2, blk 1 is 1_226, on JHC8\n",
      "\t4:\taxis_pfb_readout_v4 - configured by PYNQ\n",
      "\t\tfs=2457.600 MHz, decimated=38.400 MHz, 32-bit DDS, range=38.400 MHz\n",
      "\t\taxis_avg_buffer v1.0 (no edge counter)\n",
      "\t\tmaxlen 8192 accumulated, 1024 decimated (26.667 us)\n",
      "\t\ttriggered by tport 14, pin 0, feedback to tProc input 4\n",
      "\t\tADC tile 2, blk 1 is 1_226, on JHC8\n",
      "\t5:\taxis_pfb_readout_v4 - configured by PYNQ\n",
      "\t\tfs=2457.600 MHz, decimated=38.400 MHz, 32-bit DDS, range=38.400 MHz\n",
      "\t\taxis_avg_buffer v1.0 (no edge counter)\n",
      "\t\tmaxlen 8192 accumulated, 1024 decimated (26.667 us)\n",
      "\t\ttriggered by tport 15, pin 0, feedback to tProc input 5\n",
      "\t\tADC tile 2, blk 1 is 1_226, on JHC8\n",
      "\t6:\taxis_pfb_readout_v4 - configured by PYNQ\n",
      "\t\tfs=2457.600 MHz, decimated=38.400 MHz, 32-bit DDS, range=38.400 MHz\n",
      "\t\taxis_avg_buffer v1.0 (no edge counter)\n",
      "\t\tmaxlen 8192 accumulated, 1024 decimated (26.667 us)\n",
      "\t\ttriggered by tport 16, pin 0, feedback to tProc input 6\n",
      "\t\tADC tile 2, blk 1 is 1_226, on JHC8\n",
      "\t7:\taxis_pfb_readout_v4 - configured by PYNQ\n",
      "\t\tfs=2457.600 MHz, decimated=38.400 MHz, 32-bit DDS, range=38.400 MHz\n",
      "\t\taxis_avg_buffer v1.0 (no edge counter)\n",
      "\t\tmaxlen 8192 accumulated, 1024 decimated (26.667 us)\n",
      "\t\ttriggered by tport 17, pin 0, feedback to tProc input 7\n",
      "\t\tADC tile 2, blk 1 is 1_226, on JHC8\n",
      "\t8:\taxis_pfb_readout_v4 - configured by PYNQ\n",
      "\t\tfs=2457.600 MHz, decimated=38.400 MHz, 32-bit DDS, range=38.400 MHz\n",
      "\t\taxis_avg_buffer v1.0 (no edge counter)\n",
      "\t\tmaxlen 8192 accumulated, 1024 decimated (26.667 us)\n",
      "\t\ttriggered by tport 6, pin 0, feedback to tProc input -1\n",
      "\t\tADC tile 2, blk 1 is 1_226, on JHC8\n",
      "\t9:\taxis_pfb_readout_v4 - configured by PYNQ\n",
      "\t\tfs=2457.600 MHz, decimated=38.400 MHz, 32-bit DDS, range=38.400 MHz\n",
      "\t\taxis_avg_buffer v1.0 (no edge counter)\n",
      "\t\tmaxlen 8192 accumulated, 1024 decimated (26.667 us)\n",
      "\t\ttriggered by tport 7, pin 0, feedback to tProc input -1\n",
      "\t\tADC tile 2, blk 1 is 1_226, on JHC8\n",
      "\n",
      "\t6 digital output pins:\n",
      "\t0:\tSPARE0_1V8\n",
      "\t1:\tSPARE1_1V8\n",
      "\t2:\tSPARE2_1V8\n",
      "\t3:\tSPARE3_1V8\n",
      "\t4:\tSPARE4_1V8\n",
      "\t5:\tSPARE5_1V8\n",
      "\n",
      "\ttProc qick_processor (\"v2\") rev 21: program memory 4096 words, data memory 16384 words\n",
      "\t\texternal start pin: None\n",
      "\n",
      "\tDDR4 memory buffer: 1073741824 samples (3.495 sec), 128 samples/transfer\n",
      "\t\twired to readouts [0, 1, 2, 3, 4, 5, 6, 7, 8, 9]\n",
      "\n",
      "\tMR buffer: 8192 samples (3.333 us), wired to readouts [0, 1]\n"
     ]
    }
   ],
   "source": [
    "# Load bitstream with custom overlay\n",
    "# soc = RFQickSoc216V1('/home/xilinx/jupyter_notebooks/fw/2024-08-23_216_tprocv2r20_rfb-spifix/qick_216_rfb.bit', clk_output=None)\n",
    "# soc = RFQickSoc216V1('/home/xilinx/jupyter_notebooks/fw/2024-09-05_216_tprocv2r21_rfb/qick_216_rfb.bit', clk_output=None)\n",
    "# soc = RFQickSoc216V1('/home/xilinx/jupyter_notebooks/fw/2024-09-07_216_tprocv2r21_rfb-7864/qick_216_rfb.bit', clk_output=None)\n",
    "# soc = RFQickSoc216V1('/home/xilinx/jupyter_notebooks/fw/2024-09-26_216_tprocv2r21_rfb-7864/qick_216_rfb.bit', clk_output=None)\n",
    "# soc = RFQickSoc216V1('/home/xilinx/jupyter_notebooks/fw/2024-09-26_216_tprocv2r21_rfb_standard/qick_216_rfb.bit', clk_output=None)\n",
    "soc = RFQickSoc216V1('/home/xilinx/jupyter_notebooks/fw/2024-09-28_216_tprocv2r21_rfb_standard/qick_216_rfb.bit', clk_output=None)\n",
    "\n",
    "\n",
    "soccfg = soc\n",
    "\n",
    "print(soccfg)"
   ]
  },
  {
   "cell_type": "markdown",
   "id": "85109a34",
   "metadata": {},
   "source": [
    "## Hardware Configuration\n",
    "To test the RF Board in loopback connect one DAC channel to one ADC channel. A look up table for port mapping between RF216 ports and ZCU216 can be found here: https://github.com/meeg/qick_demos_sho/blob/main/rfboard/qick_rf216/demo_03_tprocv2.ipynb. \n",
    "\n",
    "Set GEN_CH (generator channel) as connected DAC channel and RO_CH (readout channel) as the connected ADC channel **as labeled in the QICK firmware**. \n",
    "\n",
    "Note that the port labeling in the QICK firmware can vary from user to user, refer to the soccfg printed above to check the mapping from the hardware channels to their labeling in the QICK firmware. In ths example, our hardware configuration has DAC channel 1_229 connected to ADC channel 0_226, which corresponds to DAC channel 5 and ADC channel 0 in the QICK firmware. Users can create a table similar to the one below for their own reference: \n",
    "\n",
    "<br>\n",
    "\n",
    "<center> DAC (generator) PORT number Mapping </center>\n",
    "\n",
    "|Port Number|RF Board Pinout|QICK Firmware|\n",
    "|:---:|:---:|:---:|\n",
    "|1_229|5|5|\n",
    "\n",
    "<br>\n",
    "<br>\n",
    "\n",
    "<center> ADC (readout) PORT number Mapping </center>\n",
    "\n",
    "|Port Number|RF Board Pinout|QICK Firmware|\n",
    "|:---:|:---:|:---:|\n",
    "|0_226|4|0|\n",
    "\n"
   ]
  },
  {
   "cell_type": "code",
   "execution_count": 46,
   "id": "e7162dd2",
   "metadata": {},
   "outputs": [],
   "source": [
    "# define DAC and ADC ports as defined in the QICK firmware\n",
    "GEN_CH=5\n",
    "RO_CH=0"
   ]
  },
  {
   "cell_type": "markdown",
   "id": "ddf4cbe9-4e8e-40d5-acc0-7fd80c538b77",
   "metadata": {},
   "source": [
    "## Loopback program\n",
    "The cell below defines the loopback program used throughout the notebook to test the attenuators and filters."
   ]
  },
  {
   "cell_type": "code",
   "execution_count": null,
   "id": "ae4db5df-9fb8-44ed-9e6a-53efa0618bbf",
   "metadata": {},
   "outputs": [],
   "source": [
    "class LoopbackProgram(AveragerProgramV2):\n",
    "    def _initialize(self, cfg):\n",
    "        ro_ch = cfg['ro_ch']\n",
    "        gen_ch = cfg['gen_ch']\n",
    "        self.declare_gen(ch=gen_ch, nqz=cfg['nqz'], mixer_freq=cfg['mixer_freq'], ro_ch=ro_ch)\n",
    "        self.declare_readout(ch=ro_ch, length=cfg['ro_len'])\n",
    "        self.add_readoutconfig(ch=ro_ch, name=\"myro\",\n",
    "                               freq=cfg['freq'],\n",
    "                               gen_ch=gen_ch,\n",
    "                               outsel='product')\n",
    "        self.add_cosine(ch=gen_ch, name=\"ramp\", length=cfg['ramp_len'], even_length=True)\n",
    "        self.add_pulse(ch=gen_ch, name=\"mypulse\", ro_ch=ro_ch,\n",
    "                       style=\"const\",\n",
    "#                        style=\"flat_top\", \n",
    "#                        envelope=\"ramp\", \n",
    "                       freq=cfg['freq'],\n",
    "                       length=cfg['flat_len'],\n",
    "                       phase=cfg['phase'],\n",
    "                       gain=cfg['gain'],\n",
    "                      )\n",
    "        self.send_readoutconfig(ch=cfg['ro_ch'], name=\"myro\", t=0)\n",
    "    def _body(self, cfg):\n",
    "        self.delay_auto()\n",
    "        self.pulse(ch=cfg['gen_ch'], name=\"mypulse\", t=0.0)\n",
    "        self.trigger(ros=[cfg['ro_ch']], pins=[0], t=cfg['trig_time'], mr=True)\n"
   ]
  },
  {
   "cell_type": "markdown",
   "id": "01b74dcc",
   "metadata": {},
   "source": [
    "## Testing the programmable attenuators\n",
    "\n",
    "The two programmable 30 dB attenuators on the DAC side are adjusted using:\n",
    "\n",
    "```soc.rfb_set_gen_rf({DAC Channel},{first attenuator dB}, {second attenuator dB})```\n",
    "\n",
    "and the programmable 30 dB attenuator on the ADC side similarly adjusted using:\n",
    "\n",
    "```soc.rfb_set_ro_rf({ADC Channel}, {attenuator dB})```\n",
    "\n",
    "The cell below plots the I/Q components of the signal. By adjusting the programmable attenuators, we should find that decreasing the attenuation on either the ADC or DAC sides will result in larger I/Q amplitudes, and conversely, increasing the attenuation will result in decreased amplitudes. Check this for yourself!"
   ]
  },
  {
   "cell_type": "code",
   "execution_count": 58,
   "id": "00398ad8",
   "metadata": {},
   "outputs": [
    {
     "data": {
      "application/vnd.jupyter.widget-view+json": {
       "model_id": "60f2e503871c4a0a81c06c88ed34affc",
       "version_major": 2,
       "version_minor": 0
      },
      "text/plain": [
       "  0%|          | 0/100 [00:00<?, ?it/s]"
      ]
     },
     "metadata": {},
     "output_type": "display_data"
    },
    {
     "data": {
      "image/png": "[encoded data removed]",
      "text/plain": [
       "<Figure size 432x288 with 1 Axes>"
      ]
     },
     "metadata": {
      "needs_background": "light"
     },
     "output_type": "display_data"
    }
   ],
   "source": [
    "config = {'gen_ch': GEN_CH,\n",
    "          'ro_ch': RO_CH,\n",
    "          'mixer_freq': 3500,\n",
    "          'freq': 4000,\n",
    "          'nqz': 2,\n",
    "          'trig_time': 0.0,\n",
    "          'ro_len': 3.0,\n",
    "          'flat_len': 2.0,\n",
    "          'ramp_len': 1.0,\n",
    "          'phase': 0,\n",
    "          'gain': 1.0\n",
    "         }\n",
    "\n",
    "prog = LoopbackProgram(soccfg, reps=1, final_delay=0.5, cfg=config)\n",
    "freq = config['freq']\n",
    "soc.rfb_set_gen_filter(config['gen_ch'], fc=freq/1000, ftype='bandpass', bw=1.0)\n",
    "soc.rfb_set_ro_filter(config['ro_ch'], fc=freq/1000, ftype='bandpass', bw=1.0)\n",
    "# Set attenuator on DAC.\n",
    "soc.rfb_set_gen_rf(config['gen_ch'], 5, 15)\n",
    "# Set attenuator on ADC.\n",
    "soc.rfb_set_ro_rf(config['ro_ch'], 30)\n",
    "\n",
    "iq_list = prog.acquire_decimated(soc, soft_avgs=100)\n",
    "t = prog.get_time_axis(ro_index=0)\n",
    "iq = iq_list[0]\n",
    "plt.plot(t, iq[:,0], label=\"I value\")\n",
    "plt.plot(t, iq[:,1], label=\"Q value\")\n",
    "plt.legend()\n",
    "plt.ylabel(\"amplitude [ADU]\")\n",
    "plt.xlabel(\"time [us]\");"
   ]
  },
  {
   "cell_type": "code",
   "execution_count": 59,
   "id": "76b98cea",
   "metadata": {},
   "outputs": [
    {
     "data": {
      "application/vnd.jupyter.widget-view+json": {
       "model_id": "14a163d0edf64f4fabbe2eb82359224f",
       "version_major": 2,
       "version_minor": 0
      },
      "text/plain": [
       "  0%|          | 0/1 [00:00<?, ?it/s]"
      ]
     },
     "metadata": {},
     "output_type": "display_data"
    },
    {
     "data": {
      "image/png": "[encoded data removed]",
      "text/plain": [
       "<Figure size 432x288 with 1 Axes>"
      ]
     },
     "metadata": {
      "needs_background": "light"
     },
     "output_type": "display_data"
    }
   ],
   "source": [
    "soc.arm_mr(ch=config['ro_ch'])\n",
    "iq_list = prog.acquire_decimated(soc, soft_avgs=1)\n",
    "# look at the MR buffer just to see it works\n",
    "iq_mr = soc.get_mr()[450:550]\n",
    "t = prog.get_time_axis_mr(config['ro_ch'], iq_mr)\n",
    "plt.plot(t, iq_mr[:,0],label=\"I\")\n",
    "plt.plot(t, iq_mr[:,1],label=\"Q\")\n",
    "plt.xlabel(\"us\")\n",
    "plt.legend();"
   ]
  },
  {
   "cell_type": "code",
   "execution_count": 60,
   "id": "a8de3700",
   "metadata": {},
   "outputs": [
    {
     "data": {
      "application/vnd.jupyter.widget-view+json": {
       "model_id": "9e41fa87325945f3a3922eba774fe984",
       "version_major": 2,
       "version_minor": 0
      },
      "text/plain": [
       "  0%|          | 0/100 [00:00<?, ?it/s]"
      ]
     },
     "metadata": {},
     "output_type": "display_data"
    },
    {
     "data": {
      "image/png": "[encoded data removed]",
      "text/plain": [
       "<Figure size 432x288 with 1 Axes>"
      ]
     },
     "metadata": {
      "needs_background": "light"
     },
     "output_type": "display_data"
    }
   ],
   "source": [
    "class FreqSweepProgram(AveragerProgramV2):\n",
    "    def _initialize(self, cfg):\n",
    "        ro_ch = cfg['ro_ch']\n",
    "        gen_ch = cfg['gen_ch']\n",
    "        \n",
    "        self.declare_gen(ch=gen_ch, nqz=cfg['nqz'], mixer_freq=cfg['mixer_freq'], ro_ch=ro_ch)\n",
    "        self.declare_readout(ch=ro_ch, length=cfg['ro_len'])\n",
    "\n",
    "        self.add_loop(\"myloop\", self.cfg[\"steps\"])\n",
    "        self.add_readoutconfig(ch=ro_ch, name=\"myro\", freq=cfg['freq'], gen_ch=gen_ch)\n",
    "\n",
    "        self.add_pulse(ch=gen_ch, name=\"mypulse\", ro_ch=ro_ch, \n",
    "                       style=\"const\", \n",
    "                       freq=cfg['freq'], \n",
    "                       length=cfg['pulse_len'],\n",
    "                       phase=cfg['phase'],\n",
    "                       gain=cfg['gain'], \n",
    "                      )\n",
    "        \n",
    "    def _body(self, cfg):\n",
    "        # if you delay the config by too long, you can see the readout get reconfigured in the middle of your pulse\n",
    "        self.send_readoutconfig(ch=cfg['ro_ch'], name=\"myro\", t=0)\n",
    "        self.pulse(ch=cfg['gen_ch'], name=\"mypulse\", t=0)\n",
    "        self.trigger(ros=[cfg['ro_ch']], pins=[0], t=cfg['trig_time'])\n",
    "\n",
    "# do a sweep with 5 points and plot decimated\n",
    "config = {'steps': 5,\n",
    "          'gen_ch': GEN_CH,\n",
    "          'ro_ch': RO_CH,\n",
    "          'freq': QickSweep1D(\"myloop\", 3900, 4100),\n",
    "          'mixer_freq': 4000,\n",
    "          'nqz': 2,\n",
    "          'trig_time': 0.4,\n",
    "          'ro_len': 0.3,\n",
    "          'pulse_len': 0.2,\n",
    "          'phase': 0,\n",
    "          'gain': 1.0\n",
    "         }\n",
    "\n",
    "#soc.rfb_set_gen_rf(config['gen_ch'], 10, 30)\n",
    "#soc.rfb_set_ro_rf(config['ro_ch'], 30)\n",
    "#freq = config['mixer_freq']\n",
    "#soc.rfb_set_gen_filter(config['gen_ch'], fc=freq/1000, ftype='bandpass', bw=1.0)\n",
    "#soc.rfb_set_ro_filter(config['ro_ch'], fc=freq/1000, ftype='bandpass', bw=1.0)\n",
    "\n",
    "# ^\n",
    "freq = config['mixer_freq']\n",
    "soc.rfb_set_gen_filter(config['gen_ch'], fc=freq/1000, ftype='bandpass', bw=1.0)\n",
    "soc.rfb_set_ro_filter(config['ro_ch'], fc=freq/1000, ftype='bandpass', bw=1.0)\n",
    "# Set attenuator on DAC.\n",
    "soc.rfb_set_gen_rf(config['gen_ch'], 5, 15)\n",
    "# Set attenuator on ADC.\n",
    "soc.rfb_set_ro_rf(config['ro_ch'], 30)\n",
    "\n",
    "\n",
    "\n",
    "prog = FreqSweepProgram(soccfg, reps=1, final_delay=0.5, cfg=config)\n",
    "\n",
    "iq_list = prog.acquire_decimated(soc, soft_avgs=100)\n",
    "t = prog.get_time_axis(ro_index=0)\n",
    "\n",
    "for ii, iq in enumerate(iq_list[0]):\n",
    "#     plt.plot(t, iq[:,0], label=\"I value, step %d\"%(ii))\n",
    "#     plt.plot(t, iq[:,1], label=\"Q value, step %d\"%(ii))\n",
    "    plt.plot(t, np.abs(iq.dot([1,1j])), label=\"mag, step %d\"%(ii))\n",
    "plt.legend()\n",
    "plt.ylabel(\"amplitude [ADU]\")\n",
    "plt.xlabel(\"time [us]\");"
   ]
  },
  {
   "cell_type": "code",
   "execution_count": null,
   "id": "5398ec78",
   "metadata": {},
   "outputs": [],
   "source": [
    "# for chain in soc.adc_chains:\n",
    "#     chain.set_filter(fc=0, ftype='bypass')\n",
    "# for chain in soc.dac_chains:\n",
    "#     chain.set_filter(fc=0, ftype='bypass')"
   ]
  },
  {
   "cell_type": "code",
   "execution_count": null,
   "id": "455133ae",
   "metadata": {},
   "outputs": [],
   "source": [
    "# for i, chain in enumerate(soc.adc_chains):\n",
    "#     print(\"ADC\", i, chain.read_filter(reg='CHIPTYPE',debug=False))\n",
    "# for i, chain in enumerate(soc.dac_chains):\n",
    "#     print(\"DAC\", i, chain.read_filter(reg='CHIPTYPE',debug=False))"
   ]
  },
  {
   "cell_type": "markdown",
   "id": "c09e93da",
   "metadata": {},
   "source": [
    "## Transmission efficiency\n",
    "The function below calculates the forward transmission coefficient ($S_{21}$) between the DAC and ADC channels in loopback."
   ]
  },
  {
   "cell_type": "code",
   "execution_count": 61,
   "id": "80d3aa7b",
   "metadata": {},
   "outputs": [],
   "source": [
    "def measure_s21(gen_ch, ro_ch, nqz, gain, steps=101, dds_range=0.45, overlap=0, plot=False, progress=True):\n",
    "    config = {'steps': steps,\n",
    "              'gen_ch': gen_ch,\n",
    "              'ro_ch': ro_ch,\n",
    "              'nqz': nqz,\n",
    "              'trig_time': 0.4,\n",
    "              'pulse_len': 10.0,\n",
    "              'ro_len': 10.1,\n",
    "              'phase': 0,\n",
    "              'gain': gain\n",
    "             }\n",
    "    allfreqs = []\n",
    "    allpowers = []\n",
    "    f_dds = soccfg['gens'][gen_ch]['f_dds']\n",
    "    mixer_freqs = np.arange(0.5, 10000/f_dds, dds_range*2-overlap)*f_dds    \n",
    "    for i, mixer_freq in enumerate(tqdm(mixer_freqs, disable=not progress)):\n",
    "        config['mixer_freq'] = mixer_freq\n",
    "        config['freq'] = QickSweep1D(\"myloop\", mixer_freq-dds_range*f_dds, mixer_freq+dds_range*f_dds)\n",
    "\n",
    "        prog = FreqSweepProgram(soccfg, reps=10, final_delay=1.0, cfg=config)\n",
    "        freqs = prog.get_pulse_param('myro', 'freq', as_array=True)\n",
    "        iq_list = prog.acquire(soc, soft_avgs=1, progress=False)\n",
    "\n",
    "        iq_complex = iq_list[0][0].dot([1,1j])\n",
    "        mags = np.abs(iq_complex)\n",
    "        powers = 20*np.log10(mags)\n",
    "        allfreqs.append(freqs)\n",
    "        allpowers.append(powers)\n",
    "        if plot:\n",
    "            plt.plot(freqs, powers, label=\"mixer_freq=%f\"%(mixer_freq))\n",
    "        #     plt.plot(freqs, mags, label=\"RO filter BW %.2f GHz\"%(ro_bw))\n",
    "            plt.ylabel(\"S21 [arb. dB]\")\n",
    "            plt.xlabel(\"Frequency [MHz]\")\n",
    "    allfreqs = np.array(allfreqs).flatten()\n",
    "    allpowers = np.array(allpowers).flatten()\n",
    "    return allfreqs, allpowers\n"
   ]
  },
  {
   "cell_type": "markdown",
   "id": "0235df16-b7e6-40d2-a31a-5b63b710d2b4",
   "metadata": {},
   "source": [
    "## $S_{21}$ vs Frequency \n",
    "\n",
    "The following cell plots the $S_{21}$ as a function of the sweeping frequency. We can see that the RF board has a clear range at which the transmittance is optimized and generally that there is greater attenuation at higher frequencies as expected."
   ]
  },
  {
   "cell_type": "code",
   "execution_count": 62,
   "id": "91263fee",
   "metadata": {},
   "outputs": [
    {
     "data": {
      "application/vnd.jupyter.widget-view+json": {
       "model_id": "2ac0577fb04440249117feb2d5681384",
       "version_major": 2,
       "version_minor": 0
      },
      "text/plain": [
       "  0%|          | 0/7 [00:00<?, ?it/s]"
      ]
     },
     "metadata": {},
     "output_type": "display_data"
    },
    {
     "data": {
      "image/png": "[encoded data removed]",
      "text/plain": [
       "<Figure size 432x288 with 1 Axes>"
      ]
     },
     "metadata": {
      "needs_background": "light"
     },
     "output_type": "display_data"
    }
   ],
   "source": [
    "## need to figure out what's going on here ## - will go to QICK OH on Friday\n",
    "soc.rfb_set_gen_rf(GEN_CH, 5, 15)\n",
    "soc.rfb_set_ro_rf(RO_CH, 30)\n",
    "soc.rfb_set_gen_filter(GEN_CH, fc=0, ftype='bypass')\n",
    "soc.rfb_set_ro_filter(RO_CH, fc=0, ftype='bypass')\n",
    "measure_s21(15,0,2,1.0,steps=501,dds_range=0.45,overlap=0.1,plot=True);"
   ]
  },
  {
   "cell_type": "markdown",
   "id": "2aa444d5",
   "metadata": {},
   "source": [
    "## $S_{21}$ at different Nyquist zones\n",
    "\n",
    "The RF board can be adjusted to have maximized transmittance in different Nyquist zones. As shown below, transmittance can be optimized at lower frequencies $\\le f_s/2$ (e.g., the first Nyquist zone) by using nqz = 1 or at higher frequencies $\\ge f_s/2$ (e.g., the second Nyquist zone) using nqz = 2 and so on."
   ]
  },
  {
   "cell_type": "code",
   "execution_count": 65,
   "id": "27476d3b",
   "metadata": {},
   "outputs": [
    {
     "data": {
      "application/vnd.jupyter.widget-view+json": {
       "model_id": "18861649d514404fb6890402808d1ab7",
       "version_major": 2,
       "version_minor": 0
      },
      "text/plain": [
       "  0%|          | 0/6 [00:00<?, ?it/s]"
      ]
     },
     "metadata": {},
     "output_type": "display_data"
    },
    {
     "data": {
      "application/vnd.jupyter.widget-view+json": {
       "model_id": "923380d9fcf14487bfdde528562f2034",
       "version_major": 2,
       "version_minor": 0
      },
      "text/plain": [
       "  0%|          | 0/6 [00:00<?, ?it/s]"
      ]
     },
     "metadata": {},
     "output_type": "display_data"
    },
    {
     "data": {
      "image/png": "[encoded data removed]",
      "text/plain": [
       "<Figure size 432x288 with 1 Axes>"
      ]
     },
     "metadata": {
      "needs_background": "light"
     },
     "output_type": "display_data"
    }
   ],
   "source": [
    "soc.rfb_set_gen_rf(GEN_CH, 5, 15)\n",
    "soc.rfb_set_ro_rf(RO_CH, 30)\n",
    "soc.rfb_set_gen_filter(GEN_CH, fc=0, ftype='bypass')\n",
    "soc.rfb_set_ro_filter(RO_CH, fc=0, ftype='bypass')\n",
    "\n",
    "plt.plot(*measure_s21(GEN_CH,RO_CH,nqz = 1,gain = 1.0), label=\"nqz=1\")\n",
    "plt.plot(*measure_s21(GEN_CH,RO_CH,nqz = 2,gain = 1.0), label=\"nqz=2\")\n",
    "plt.ylabel(\"S21 [arb. dB]\")\n",
    "plt.xlabel(\"Frequency [MHz]\")\n",
    "plt.ylim(bottom=0)\n",
    "plt.title(\"bypass mode\")\n",
    "\n",
    "# illustrating the nyquist zones\n",
    "fs_adc = 2457.600\n",
    "fs_dac = 6881.280\n",
    "plt.vlines(fs_dac/2,0,70,color = 'red',label = r\"$\\f_s/2$ (DAC)\")\n",
    "\n",
    "plt.legend();"
   ]
  },
  {
   "cell_type": "markdown",
   "id": "5feb5a40",
   "metadata": {},
   "source": [
    "## Testing Low-pass and High-pass filtering\n",
    "\n",
    "The RF board can be used to employ low- and high-pass filtering."
   ]
  },
  {
   "cell_type": "code",
   "execution_count": 66,
   "id": "cbae70de",
   "metadata": {},
   "outputs": [],
   "source": [
    "# just to be sure we're doing things right, set registers directly\n",
    "def set_filter(gen_ch, ro_ch, lpf, hpf, filt=0):\n",
    "    sw = 0xc0 + (hpf<<3) + lpf\n",
    "    filt_bits = (filt<<4) + filt\n",
    "    rfb_ch = soc.gens[gen_ch].rfb\n",
    "    rfb_ch.brd_sel.enable(rfb_ch.rfboard_ch)\n",
    "    rfb_ch.filter.reg_wr('WR0_SW', sw)\n",
    "    rfb_ch.filter.reg_wr('WR0_FILTER', filt_bits)\n",
    "    rfb_ch.brd_sel.disable()\n",
    "\n",
    "    rfb_ch = soc.avg_bufs[ro_ch].rfb\n",
    "    rfb_ch.brd_sel.enable(rfb_ch.rfboard_ch)\n",
    "    rfb_ch.filter.reg_wr('WR0_SW', sw)\n",
    "    rfb_ch.filter.reg_wr('WR0_FILTER', filt_bits)\n",
    "    rfb_ch.brd_sel.disable()"
   ]
  },
  {
   "cell_type": "markdown",
   "id": "1cbceb7c",
   "metadata": {},
   "source": [
    "## Low-pass filtering (LPF) example testing"
   ]
  },
  {
   "cell_type": "markdown",
   "id": "4d50403c-7cd8-407c-aaba-5700205d30a6",
   "metadata": {},
   "source": [
    "### Low-pass filtering at differnt bands in state 0."
   ]
  },
  {
   "cell_type": "code",
   "execution_count": 68,
   "id": "ffb6e8ee",
   "metadata": {},
   "outputs": [
    {
     "data": {
      "application/vnd.jupyter.widget-view+json": {
       "model_id": "1e0683720a9d48589cc7ef2312186323",
       "version_major": 2,
       "version_minor": 0
      },
      "text/plain": [
       "  0%|          | 0/5 [00:00<?, ?it/s]"
      ]
     },
     "metadata": {},
     "output_type": "display_data"
    },
    {
     "data": {
      "image/png": "[encoded data removed]",
      "text/plain": [
       "<Figure size 432x288 with 1 Axes>"
      ]
     },
     "metadata": {
      "needs_background": "light"
     },
     "output_type": "display_data"
    }
   ],
   "source": [
    "soc.rfb_set_gen_rf(GEN_CH, 5, 15)\n",
    "soc.rfb_set_ro_rf(RO_CH, 30)\n",
    "soc.rfb_set_gen_filter(GEN_CH, fc=0, ftype='bypass')\n",
    "soc.rfb_set_ro_filter(RO_CH, fc=0, ftype='bypass')\n",
    "\n",
    "for lpf in tqdm(range(0,5)):\n",
    "    set_filter(GEN_CH, RO_CH, lpf, 0, 0)\n",
    "\n",
    "    plt.plot(*measure_s21(GEN_CH,RO_CH,2,1.0, progress=False), label=\"lpf=%d\"%(lpf))\n",
    "plt.ylabel(\"S21 [arb. dB]\")\n",
    "plt.xlabel(\"Frequency [MHz]\")\n",
    "plt.ylim(bottom=0)\n",
    "plt.title(\"LPF bands, state=0\")\n",
    "plt.legend();"
   ]
  },
  {
   "cell_type": "markdown",
   "id": "06b5461b-038d-4d1d-8d71-534115c47b72",
   "metadata": {},
   "source": [
    "### Low-pass filtering at differnt states in the second band."
   ]
  },
  {
   "cell_type": "code",
   "execution_count": 69,
   "id": "8853f86b",
   "metadata": {},
   "outputs": [
    {
     "data": {
      "application/vnd.jupyter.widget-view+json": {
       "model_id": "8dc64a4b9c97453b8ded046b2e259f22",
       "version_major": 2,
       "version_minor": 0
      },
      "text/plain": [
       "  0%|          | 0/16 [00:00<?, ?it/s]"
      ]
     },
     "metadata": {},
     "output_type": "display_data"
    },
    {
     "data": {
      "image/png": "[encoded data removed]",
      "text/plain": [
       "<Figure size 432x288 with 1 Axes>"
      ]
     },
     "metadata": {
      "needs_background": "light"
     },
     "output_type": "display_data"
    }
   ],
   "source": [
    "soc.rfb_set_gen_rf(GEN_CH, 5, 15)\n",
    "soc.rfb_set_ro_rf(RO_CH, 30)\n",
    "soc.rfb_set_gen_filter(GEN_CH, fc=0, ftype='bypass')\n",
    "soc.rfb_set_ro_filter(RO_CH, fc=0, ftype='bypass')\n",
    "\n",
    "for state in tqdm(range(0,16)):\n",
    "    set_filter(GEN_CH, RO_CH, 2, 0, state)\n",
    "\n",
    "    plt.plot(*measure_s21(GEN_CH,RO_CH,2,1.0, progress=False), label=\"state=%d\"%(state))\n",
    "plt.ylabel(\"S21 [arb. dB]\")\n",
    "plt.xlabel(\"Frequency [MHz]\")\n",
    "plt.ylim(bottom=0)\n",
    "plt.title(\"LPF states, band=2\")\n",
    "plt.legend();"
   ]
  },
  {
   "cell_type": "markdown",
   "id": "ae19de81-e52c-408c-bdc4-92e5be8b5d04",
   "metadata": {},
   "source": [
    "## High-pass filtering (HPF) example testing"
   ]
  },
  {
   "cell_type": "markdown",
   "id": "c2b947c4-a12a-4dee-ac04-69700b7b8737",
   "metadata": {},
   "source": [
    "### High-pass filtering at differnt bands in state 0."
   ]
  },
  {
   "cell_type": "code",
   "execution_count": 70,
   "id": "8da05ad8",
   "metadata": {},
   "outputs": [
    {
     "data": {
      "application/vnd.jupyter.widget-view+json": {
       "model_id": "3fa2ed6f2933438f979d1bb179adfc75",
       "version_major": 2,
       "version_minor": 0
      },
      "text/plain": [
       "  0%|          | 0/5 [00:00<?, ?it/s]"
      ]
     },
     "metadata": {},
     "output_type": "display_data"
    },
    {
     "data": {
      "image/png": "[encoded data removed]",
      "text/plain": [
       "<Figure size 432x288 with 1 Axes>"
      ]
     },
     "metadata": {
      "needs_background": "light"
     },
     "output_type": "display_data"
    }
   ],
   "source": [
    "soc.rfb_set_gen_rf(GEN_CH, 5, 15)\n",
    "soc.rfb_set_ro_rf(RO_CH, 30)\n",
    "soc.rfb_set_gen_filter(GEN_CH, fc=0, ftype='bypass')\n",
    "soc.rfb_set_ro_filter(RO_CH, fc=0, ftype='bypass')\n",
    "\n",
    "for hpf in tqdm(range(0,5)):\n",
    "    set_filter(GEN_CH, RO_CH, 0, hpf, 0)\n",
    "\n",
    "    plt.plot(*measure_s21(GEN_CH,RO_CH,2,1.0, progress=False), label=\"hpf=%d\"%(hpf))\n",
    "plt.ylabel(\"S21 [arb. dB]\")\n",
    "plt.xlabel(\"Frequency [MHz]\")\n",
    "plt.ylim(bottom=0)\n",
    "plt.title(\"HPF bands, state=0\")\n",
    "plt.legend();"
   ]
  },
  {
   "cell_type": "markdown",
   "id": "3f45285c-9300-4abc-aa83-98e5d8c562cd",
   "metadata": {},
   "source": [
    "### High-pass filtering at differnt states in the second band."
   ]
  },
  {
   "cell_type": "code",
   "execution_count": 71,
   "id": "2ad84f65",
   "metadata": {},
   "outputs": [
    {
     "data": {
      "application/vnd.jupyter.widget-view+json": {
       "model_id": "ed2eeaedab4e41fc823033d8a9073bde",
       "version_major": 2,
       "version_minor": 0
      },
      "text/plain": [
       "  0%|          | 0/16 [00:00<?, ?it/s]"
      ]
     },
     "metadata": {},
     "output_type": "display_data"
    },
    {
     "data": {
      "image/png": "[encoded data removed]",
      "text/plain": [
       "<Figure size 432x288 with 1 Axes>"
      ]
     },
     "metadata": {
      "needs_background": "light"
     },
     "output_type": "display_data"
    }
   ],
   "source": [
    "soc.rfb_set_gen_rf(GEN_CH, 5, 15)\n",
    "soc.rfb_set_ro_rf(RO_CH, 30)\n",
    "soc.rfb_set_gen_filter(GEN_CH, fc=0, ftype='bypass')\n",
    "soc.rfb_set_ro_filter(RO_CH, fc=0, ftype='bypass')\n",
    "\n",
    "for state in tqdm(range(0,16)):\n",
    "    set_filter(GEN_CH, RO_CH, 0, 2, state)\n",
    "\n",
    "    plt.plot(*measure_s21(GEN_CH,RO_CH,2,1.0, progress=False), label=\"state=%d\"%(state))\n",
    "plt.ylabel(\"S21 [arb. dB]\")\n",
    "plt.xlabel(\"Frequency [MHz]\")\n",
    "plt.ylim(bottom=0)\n",
    "plt.title(\"HPF states, band=2\")\n",
    "plt.legend();"
   ]
  },
  {
   "cell_type": "markdown",
   "id": "9eff1285-6537-45ff-bdcb-f9bb1e172b6b",
   "metadata": {},
   "source": [
    "## Bandpass filtering\n",
    "\n",
    "Each DAC and ADC channels have programmable bandpass filters. We adjust the bandpass filtering by setting ```ftype = 'bandpass'``` in ```soc.rfb_set_ro_filter()```. The center frequency of the bandpass is set using ```f_c``` and the bandwidth is set with ```bw```.\n",
    "\n",
    "For instance, ```soc.rfb_set_ro_filter(config['ro_ch'], fc=6, ftype='bandpass', bw=0.1)``` applies a bandpass filter on the ADC side with a frequency center at 6000 MHz and a width of 100 MHz (**???questions???**)."
   ]
  },
  {
   "cell_type": "code",
   "execution_count": 2,
   "id": "6383ebd4",
   "metadata": {},
   "outputs": [],
   "source": [
    "soc.rfb_set_gen_rf(config['gen_ch'], 5, 15)\n",
    "soc.rfb_set_ro_rf(config['ro_ch'], 30)\n",
    "freq = 6000\n",
    "for bw in tqdm([1500, 1000, 500, 200, 100]):\n",
    "\n",
    "    soc.rfb_set_ro_filter(config['ro_ch'], fc=freq/1000, ftype='bandpass', bw=bw/1000)\n",
    "    soc.rfb_set_gen_filter(config['gen_ch'], fc=freq/1000, ftype='bandpass', bw=bw/1000)\n",
    "\n",
    "\n",
    "    plt.plot(*measure_s21(GEN_CH,RO_CH,2,1.0, progress=False), label=\"bw=%.2f\"%(bw))\n",
    "plt.ylabel(\"S21 [arb. dB]\")\n",
    "plt.xlabel(\"Frequency [MHz]\")\n",
    "plt.ylim(bottom=0)\n",
    "plt.title(\"filter center = %.2f MHz\"%(freq));\n",
    "plt.legend();\n"
   ]
  },
  {
   "cell_type": "code",
   "execution_count": 74,
   "id": "ac2c5a45",
   "metadata": {},
   "outputs": [],
   "source": [
    "### MUX TEST\n",
    "GEN_CH=5\n",
    "MIXMUXGEN_CH = 4\n",
    "\n",
    "RO_CH_MUX = [2,3,4,5,6,7]\n",
    "RO_CH_MUX_RF = 5\n",
    "\n",
    "freq = 6000 # 3000-5000 see nothing,6000 and 7000 see something, 8000+ see nothing \n",
    "soc.rfb_set_gen_filter(GEN_CH, fc=freq/1000, ftype='bandpass', bw=1.0)\n",
    "soc.rfb_set_ro_filter(RO_CH_MUX_RF, fc=freq/1000, ftype='bandpass', bw=1.0)\n",
    "# Set attenuator on DAC.\n",
    "soc.rfb_set_gen_rf(GEN_CH, 10, 0) # Verified 30->25 see increased gain in loopback\n",
    "# Set attenuator on ADC.\n",
    "soc.rfb_set_ro_rf(RO_CH_MUX_RF, 0) # Verified 30->25 see increased gain in loopback"
   ]
  },
  {
   "cell_type": "code",
   "execution_count": null,
   "id": "4df3e1ec",
   "metadata": {},
   "outputs": [],
   "source": [
    "class MuxProgram(AveragerProgramV2):\n",
    "    def _initialize(self, cfg):\n",
    "        ro_chs = cfg['ro_chs']\n",
    "        gen_ch = cfg['gen_ch']\n",
    "        \n",
    "        self.declare_gen(ch=gen_ch, nqz=cfg['nqz'], ro_ch=ro_chs[0], \n",
    "                         mux_freqs=cfg['pulse_freqs'], \n",
    "                         mux_gains=cfg['pulse_gains'], \n",
    "                         mux_phases=cfg['pulse_phases'],\n",
    "                         mixer_freq=cfg['mixer_freq'])\n",
    "        for ch, f, ph in zip(cfg['ro_chs'], cfg['pulse_freqs'], cfg['ro_phases']):\n",
    "            self.declare_readout(ch=ch, length=cfg['ro_len'], freq=f, phase=ph, gen_ch=gen_ch)\n",
    "\n",
    "        self.add_pulse(ch=gen_ch, name=\"mymux\", \n",
    "                       style=\"const\", \n",
    "                       length=cfg[\"pulse_len\"],\n",
    "                       mask=[0,1,2,3,4,5],\n",
    "                      )\n",
    "        \n",
    "    def _body(self, cfg):\n",
    "        self.trigger(ros=cfg['ro_chs'], pins=[0], t=cfg['trig_time'], ddr4=True)\n",
    "        self.pulse(ch=cfg['gen_ch'], name=\"mymux\", t=0)\n",
    "        \n",
    "config = {'gen_ch': GEN_CH,\n",
    "          'ro_chs': RO_CH_MUX,\n",
    "          'mixer_freq': 6000,\n",
    "          'nqz': 2,\n",
    "          'pulse_freqs': [6191.519, 6216, 6292.321, 6405.85, 6432.959, 6468.441],\n",
    "          'pulse_gains': [1.0]*6,\n",
    "          'pulse_phases': [0.0]*6,\n",
    "          'ro_phases': [0.0]*6,\n",
    "          'trig_time': 0.0,\n",
    "          'pulse_len': 0.5,\n",
    "          'ro_len': 5.0,\n",
    "         }\n",
    "print(config)\n",
    "prog = MuxProgram(soccfg, reps=1, final_delay=0.5, cfg=config)\n",
    "iq_list = prog.acquire_decimated(soc, soft_avgs=10)"
   ]
  },
  {
   "cell_type": "code",
   "execution_count": null,
   "id": "fcb9449b",
   "metadata": {
    "scrolled": true
   },
   "outputs": [],
   "source": [
    "t = prog.get_time_axis(ro_index=0)\n",
    "fig, axes = plt.subplots(len(config['ro_chs']), 1, figsize=(12,12))\n",
    "for i, ch in enumerate(config['ro_chs']):\n",
    "    plot = axes[i]\n",
    "    plot.plot(t, iq_list[i][:,0], label=\"I value\")\n",
    "    plot.plot(t, iq_list[i][:,1], label=\"Q value\")\n",
    "    plot.plot(t, np.abs(iq_list[i].dot([1,1j])), label=\"magnitude\")\n",
    "    plot.legend()\n",
    "    plot.set_ylabel(\"a.u.\")\n",
    "    plot.set_xlabel(\"us\");\n",
    "    ######## SET THIS VALUE AS YOUR config['trig_time'] #########\n",
    "    plot.axvline(0.75, c='r') \n",
    "\n"
   ]
  },
  {
   "cell_type": "code",
   "execution_count": null,
   "id": "31b78061",
   "metadata": {},
   "outputs": [],
   "source": [
    "### Scratchwork below: try to get a S21 sweep using the filters and a Python outer loop "
   ]
  },
  {
   "cell_type": "code",
   "execution_count": null,
   "id": "a9eb1fcf",
   "metadata": {},
   "outputs": [],
   "source": [
    "### Testing MUX in loopback\n",
    "\n",
    "### MUX TEST 2 \n",
    "GEN_CH=5\n",
    "MIXMUXGEN_CH = 4\n",
    "\n",
    "RO_CH_MUX = [2,3,4,5,6,7]\n",
    "RO_CH_MUX_RF = 5\n",
    "\n",
    "freq = 6000\n",
    "soc.rfb_set_gen_filter(MIXMUXGEN_CH, fc=freq/1000, ftype='bandpass', bw=1.0)\n",
    "soc.rfb_set_ro_filter(RO_CH_MUX_RF, fc=freq/1000, ftype='bandpass', bw=1.0)\n",
    "# Set attenuator on DAC.\n",
    "soc.rfb_set_gen_rf(MIXMUXGEN_CH, 20, 30)\n",
    "# Set attenuator on ADC.\n",
    "soc.rfb_set_ro_rf(RO_CH_MUX_RF, 30)"
   ]
  },
  {
   "cell_type": "code",
   "execution_count": null,
   "id": "b88eefa3",
   "metadata": {},
   "outputs": [],
   "source": [
    "class LoopbackProgram(AveragerProgramV2):\n",
    "    def _initialize(self, cfg):\n",
    "        ro_chs = cfg['ro_chs']\n",
    "        gen_ch = cfg['gen_ch']\n",
    "        \n",
    "        self.declare_gen(ch=gen_ch, nqz=cfg['nqz'], ro_ch=ro_chs[0], \n",
    "                         mux_freqs=cfg['pulse_freqs'], \n",
    "                         mux_gains=cfg['pulse_gains'], \n",
    "                         mux_phases=cfg['pulse_phases'],\n",
    "                         mixer_freq=cfg['mixer_freq'])\n",
    "        for ch, f, ph in zip(cfg['ro_chs'], cfg['pulse_freqs'], cfg['ro_phases']):\n",
    "            self.declare_readout(ch=ch, length=cfg['ro_len'], freq=f, phase=ph, gen_ch=gen_ch)\n",
    "\n",
    "        self.add_pulse(ch=gen_ch, name=\"mymux\", \n",
    "                       style=\"const\", \n",
    "                       length=cfg[\"pulse_len\"],\n",
    "                       mask=[0,1,2,3,4,5],\n",
    "                      )\n",
    "        \n",
    "    def _body(self, cfg):\n",
    "        self.trigger(ros=cfg['ro_chs'], pins=[0], t=cfg['trig_time'], ddr4=True)\n",
    "        self.pulse(ch=cfg['gen_ch'], name=\"mymux\", t=0)\n",
    "  \n",
    "config = {'gen_ch': MIXMUXGEN_CH,\n",
    "          'ro_chs': RO_CH_MUX,\n",
    "          'mixer_freq': 6000,\n",
    "          'nqz': 2,\n",
    "          'pulse_freqs': [6191.519, 6216, 6292.321, 6405.85, 6432.959, 6468.441],\n",
    "          'pulse_gains': [1.0]*6,\n",
    "          'pulse_phases': [0.0]*6,\n",
    "          'ro_phases': [0.0]*6,\n",
    "          'trig_time': 0.0,\n",
    "          'pulse_len': 0.5,\n",
    "          'ro_len': 5.0,\n",
    "         }\n",
    "prog = LoopbackProgram(soccfg, reps=1, final_delay=0.5, cfg=config)\n",
    "iq_list = prog.acquire_decimated(soc, soft_avgs=1)\n",
    "t = prog.get_time_axis(ro_index=0)\n",
    "iq = iq_list[0]\n",
    "plt.plot(t, iq[:,0], label=\"I value\")\n",
    "plt.plot(t, iq[:,1], label=\"Q value\")\n",
    "plt.legend()\n",
    "plt.ylabel(\"amplitude [ADU]\")\n",
    "plt.xlabel(\"time [us]\");"
   ]
  },
  {
   "cell_type": "code",
   "execution_count": null,
   "id": "77bef024",
   "metadata": {},
   "outputs": [],
   "source": [
    "def measure_s21(gen_ch, ro_ch, nqz, gain, steps=101, dds_range=0.45, overlap=0, plot=False, progress=True):\n",
    "#     config = {'steps': steps,\n",
    "#               'gen_ch': gen_ch,\n",
    "#               'ro_ch': ro_ch,\n",
    "#               'nqz': nqz,\n",
    "#               'trig_time': 0.4,\n",
    "#               'pulse_len': 10.0,\n",
    "#               'ro_len': 10.1,\n",
    "#               'phase': 0,\n",
    "#               'gain': gain\n",
    "#              }\n",
    "    config = {'gen_ch': MIXMUXGEN_CH,\n",
    "          'ro_chs': RO_CH_MUX,\n",
    "          'mixer_freq': 6000,\n",
    "          'nqz': 2,\n",
    "          'pulse_freqs': [6191.519, 6216, 6292.321, 6405.85, 6432.959, 6468.441],\n",
    "          'pulse_gains': [1.0]*6,\n",
    "          'pulse_phases': [0.0]*6,\n",
    "          'ro_phases': [0.0]*6,\n",
    "          'trig_time': 0.0,\n",
    "          'pulse_len': 0.5,\n",
    "          'ro_len': 5.0,\n",
    "         }\n",
    "    allfreqs = []\n",
    "    allpowers = []\n",
    "    f_dds = soccfg['gens'][gen_ch]['f_dds']\n",
    "    mixer_freqs = np.arange(0.5, 10000/f_dds, dds_range*2-overlap)*f_dds    \n",
    "    for i, mixer_freq in enumerate(tqdm(mixer_freqs, disable=not progress)):\n",
    "        config['mixer_freq'] = mixer_freq\n",
    "        prog = LoopbackProgram(soccfg, reps=1, final_delay=0.5, cfg=config)\n",
    "#         freqs = prog.get_pulse_param('myro', 'freq', as_array=True)\n",
    "        freqs = mixer_freqs\n",
    "        iq_list = prog.acquire(soc, soft_avgs=1, progress=False)\n",
    "\n",
    "        iq_complex = iq_list[0][0].dot([1,1j])\n",
    "        mags = np.abs(iq_complex)\n",
    "        powers = 20*np.log10(mags)\n",
    "        allfreqs.append(freqs)\n",
    "        allpowers.append(powers)\n",
    "        if plot:\n",
    "            plt.plot(freqs, powers, label=\"mixer_freq=%f\"%(mixer_freq))\n",
    "        #     plt.plot(freqs, mags, label=\"RO filter BW %.2f GHz\"%(ro_bw))\n",
    "            plt.ylabel(\"S21 [arb. dB]\")\n",
    "            plt.xlabel(\"Frequency [MHz]\")\n",
    "    allfreqs = np.array(allfreqs).flatten()\n",
    "    allpowers = np.array(allpowers).flatten()\n",
    "    return allfreqs, allpowers\n"
   ]
  },
  {
   "cell_type": "code",
   "execution_count": null,
   "id": "34d9d5e0",
   "metadata": {},
   "outputs": [],
   "source": [
    "soc.rfb_set_gen_rf(GEN_CH, 30, 30)\n",
    "soc.rfb_set_ro_rf(RO_CH, 30)\n",
    "soc.rfb_set_gen_filter(GEN_CH, fc=0, ftype='bypass')\n",
    "soc.rfb_set_ro_filter(RO_CH, fc=0, ftype='bypass')\n",
    "measure_s21(15,0,2,1.0,steps=501,dds_range=0.45,overlap=0.1,plot=True);"
   ]
  },
  {
   "cell_type": "code",
   "execution_count": null,
   "id": "2e9eed90",
   "metadata": {},
   "outputs": [],
   "source": [
    "soc.rfb_set_gen_rf(GEN_CH, 30, 30)\n",
    "soc.rfb_set_ro_rf(RO_CH, 30)\n",
    "soc.rfb_set_gen_filter(GEN_CH, fc=0, ftype='bypass')\n",
    "soc.rfb_set_ro_filter(RO_CH, fc=0, ftype='bypass')\n",
    "\n",
    "plt.plot(*measure_s21(GEN_CH,RO_CH,1,1.0), label=\"nqz=1\")\n",
    "plt.plot(*measure_s21(GEN_CH,RO_CH,2,1.0), label=\"nqz=2\")\n",
    "plt.ylabel(\"S21 [arb. dB]\")\n",
    "plt.xlabel(\"Frequency [MHz]\")\n",
    "plt.ylim(bottom=0)\n",
    "plt.title(\"bypass mode\")\n",
    "plt.legend();"
   ]
  },
  {
   "cell_type": "code",
   "execution_count": null,
   "id": "2859fcd9",
   "metadata": {},
   "outputs": [],
   "source": [
    "# just to be sure we're doing things right, set registers directly\n",
    "def set_filter(gen_ch, ro_ch, lpf, hpf, filt=0):\n",
    "    sw = 0xc0 + (hpf<<3) + lpf\n",
    "    filt_bits = (filt<<4) + filt\n",
    "    rfb_ch = soc.gens[gen_ch].rfb\n",
    "    rfb_ch.brd_sel.enable(rfb_ch.rfboard_ch)\n",
    "    rfb_ch.filter.reg_wr('WR0_SW', sw)\n",
    "    rfb_ch.filter.reg_wr('WR0_FILTER', filt_bits)\n",
    "    rfb_ch.brd_sel.disable()\n",
    "\n",
    "    rfb_ch = soc.avg_bufs[ro_ch].rfb\n",
    "    rfb_ch.brd_sel.enable(rfb_ch.rfboard_ch)\n",
    "    rfb_ch.filter.reg_wr('WR0_SW', sw)\n",
    "    rfb_ch.filter.reg_wr('WR0_FILTER', filt_bits)\n",
    "    rfb_ch.brd_sel.disable()\n"
   ]
  },
  {
   "cell_type": "code",
   "execution_count": null,
   "id": "ecb93fe3",
   "metadata": {},
   "outputs": [],
   "source": [
    "soc.rfb_set_gen_rf(GEN_CH, 30, 30)\n",
    "soc.rfb_set_ro_rf(RO_CH, 30)\n",
    "soc.rfb_set_gen_filter(GEN_CH, fc=0, ftype='bypass')\n",
    "soc.rfb_set_ro_filter(RO_CH, fc=0, ftype='bypass')\n",
    "\n",
    "for lpf in tqdm(range(0,5)):\n",
    "    set_filter(GEN_CH, RO_CH, lpf, 0, 0)\n",
    "\n",
    "    plt.plot(*measure_s21(GEN_CH,RO_CH,2,1.0, progress=False), label=\"lpf=%d\"%(lpf))\n",
    "plt.ylabel(\"S21 [arb. dB]\")\n",
    "plt.xlabel(\"Frequency [MHz]\")\n",
    "plt.ylim(bottom=0)\n",
    "plt.title(\"LPF bands, state=0\")\n",
    "plt.legend();"
   ]
  },
  {
   "cell_type": "code",
   "execution_count": null,
   "id": "d71dad0c",
   "metadata": {},
   "outputs": [],
   "source": [
    "soc.rfb_set_gen_rf(GEN_CH, 30, 30)\n",
    "soc.rfb_set_ro_rf(RO_CH, 30)\n",
    "soc.rfb_set_gen_filter(GEN_CH, fc=0, ftype='bypass')\n",
    "soc.rfb_set_ro_filter(RO_CH, fc=0, ftype='bypass')\n",
    "\n",
    "for state in tqdm(range(0,16)):\n",
    "    set_filter(GEN_CH, RO_CH, 2, 0, state)\n",
    "\n",
    "    plt.plot(*measure_s21(GEN_CH,RO_CH,2,1.0, progress=False), label=\"state=%d\"%(state))\n",
    "plt.ylabel(\"S21 [arb. dB]\")\n",
    "plt.xlabel(\"Frequency [MHz]\")\n",
    "plt.ylim(bottom=0)\n",
    "plt.title(\"LPF states, band=2\")\n",
    "plt.legend();"
   ]
  },
  {
   "cell_type": "code",
   "execution_count": null,
   "id": "c90574d8",
   "metadata": {},
   "outputs": [],
   "source": [
    "soc.rfb_set_gen_rf(GEN_CH, 30, 30)\n",
    "soc.rfb_set_ro_rf(RO_CH, 30)\n",
    "soc.rfb_set_gen_filter(GEN_CH, fc=0, ftype='bypass')\n",
    "soc.rfb_set_ro_filter(RO_CH, fc=0, ftype='bypass')\n",
    "\n",
    "for hpf in tqdm(range(0,5)):\n",
    "    set_filter(GEN_CH, RO_CH, 0, hpf, 0)\n",
    "\n",
    "    plt.plot(*measure_s21(GEN_CH,RO_CH,2,1.0, progress=False), label=\"hpf=%d\"%(hpf))\n",
    "plt.ylabel(\"S21 [arb. dB]\")\n",
    "plt.xlabel(\"Frequency [MHz]\")\n",
    "plt.ylim(bottom=0)\n",
    "plt.title(\"HPF bands, state=0\")\n",
    "plt.legend();"
   ]
  },
  {
   "cell_type": "code",
   "execution_count": null,
   "id": "942f718c",
   "metadata": {},
   "outputs": [],
   "source": [
    "soc.rfb_set_gen_rf(GEN_CH, 30, 30)\n",
    "soc.rfb_set_ro_rf(RO_CH, 30)\n",
    "soc.rfb_set_gen_filter(GEN_CH, fc=0, ftype='bypass')\n",
    "soc.rfb_set_ro_filter(RO_CH, fc=0, ftype='bypass')\n",
    "\n",
    "for state in tqdm(range(0,16)):\n",
    "    set_filter(GEN_CH, RO_CH, 0, 2, state)\n",
    "\n",
    "    plt.plot(*measure_s21(GEN_CH,RO_CH,2,1.0, progress=False), label=\"state=%d\"%(state))\n",
    "plt.ylabel(\"S21 [arb. dB]\")\n",
    "plt.xlabel(\"Frequency [MHz]\")\n",
    "plt.ylim(bottom=0)\n",
    "plt.title(\"HPF states, band=2\")\n",
    "plt.legend();"
   ]
  },
  {
   "cell_type": "code",
   "execution_count": null,
   "id": "73b03067",
   "metadata": {},
   "outputs": [],
   "source": [
    "soc.rfb_set_gen_rf(config['gen_ch'], 10, 30)\n",
    "soc.rfb_set_ro_rf(config['ro_ch'], 20)\n",
    "freq = 6000\n",
    "for bw in tqdm([1500, 1000, 500, 200, 100]):\n",
    "\n",
    "    soc.rfb_set_ro_filter(config['ro_ch'], fc=freq/1000, ftype='bandpass', bw=bw/1000)\n",
    "    soc.rfb_set_gen_filter(config['gen_ch'], fc=freq/1000, ftype='bandpass', bw=bw/1000)\n",
    "\n",
    "\n",
    "    plt.plot(*measure_s21(GEN_CH,RO_CH,2,1.0, progress=False), label=\"bw=%.2f\"%(bw))\n",
    "plt.ylabel(\"S21 [arb. dB]\")\n",
    "plt.xlabel(\"Frequency [MHz]\")\n",
    "plt.ylim(bottom=0)\n",
    "plt.title(\"filter center = %.2f MHz\"%(freq));\n",
    "plt.legend();\n"
   ]
  },
  {
   "cell_type": "code",
   "execution_count": null,
   "id": "7d4d5e0b",
   "metadata": {},
   "outputs": [],
   "source": []
  },
  {
   "cell_type": "markdown",
   "id": "b3e84327",
   "metadata": {},
   "source": [
    "## scratchwork below, ignore"
   ]
  },
  {
   "cell_type": "code",
   "execution_count": null,
   "id": "91616a4c",
   "metadata": {},
   "outputs": [],
   "source": []
  },
  {
   "cell_type": "code",
   "execution_count": null,
   "id": "caa00819",
   "metadata": {},
   "outputs": [],
   "source": [
    "### MUX TEST\n",
    "GEN_CH=5\n",
    "MIXMUXGEN_CH = 4\n",
    "\n",
    "RO_CH_MUX = [2,3,4,5,6,7]\n",
    "RO_CH=0\n",
    "\n",
    "freq = 6000\n",
    "soc.rfb_set_gen_filter(MIXMUXGEN_CH, fc=freq/1000, ftype='bandpass', bw=1.0)\n",
    "soc.rfb_set_ro_filter(5, fc=freq/1000, ftype='bandpass', bw=1.0)\n",
    "# Set attenuator on DAC.\n",
    "soc.rfb_set_gen_rf(MIXMUXGEN_CH, 20, 30)\n",
    "# Set attenuator on ADC.\n",
    "soc.rfb_set_ro_rf(5, 30)"
   ]
  },
  {
   "cell_type": "code",
   "execution_count": null,
   "id": "90e4a1c1",
   "metadata": {},
   "outputs": [],
   "source": [
    "class MuxProgram(AveragerProgramV2):\n",
    "    def _initialize(self, cfg):\n",
    "        ro_chs = cfg['ro_chs']\n",
    "        gen_ch = cfg['gen_ch']\n",
    "        \n",
    "        self.declare_gen(ch=gen_ch, nqz=cfg['nqz'], ro_ch=ro_chs[0], \n",
    "                         mux_freqs=cfg['pulse_freqs'], \n",
    "                         mux_gains=cfg['pulse_gains'], \n",
    "                         mux_phases=cfg['pulse_phases'],\n",
    "                         mixer_freq=cfg['mixer_freq'])\n",
    "        for ch, f, ph in zip(cfg['ro_chs'], cfg['pulse_freqs'], cfg['ro_phases']):\n",
    "            self.declare_readout(ch=ch, length=cfg['ro_len'], freq=f, phase=ph, gen_ch=gen_ch)\n",
    "\n",
    "        self.add_pulse(ch=gen_ch, name=\"mymux\", \n",
    "                       style=\"const\", \n",
    "                       length=cfg[\"pulse_len\"],\n",
    "                       mask=[0,1,2,3,4,5],\n",
    "                      )\n",
    "        \n",
    "    def _body(self, cfg):\n",
    "        self.trigger(ros=cfg['ro_chs'], pins=[0], t=cfg['trig_time'], ddr4=True)\n",
    "        self.pulse(ch=cfg['gen_ch'], name=\"mymux\", t=0)\n",
    "        \n",
    "config = {'gen_ch': MIXMUXGEN_CH,\n",
    "          'ro_chs': RO_CH_MUX,\n",
    "          'mixer_freq': 6000,\n",
    "          'nqz': 2,\n",
    "          'pulse_freqs': [6191.519, 6216, 6292.321, 6405.85, 6432.959, 6468.441],\n",
    "          'pulse_gains': [1.0]*6,\n",
    "          'pulse_phases': [0.0]*6,\n",
    "          'ro_phases': [0.0]*6,\n",
    "          'trig_time': 0.0,\n",
    "          'pulse_len': 0.5,\n",
    "          'ro_len': 5.0,\n",
    "         }\n",
    "print(config)\n",
    "prog = MuxProgram(soccfg, reps=1, final_delay=0.5, cfg=config)\n",
    "iq_list = prog.acquire_decimated(soc, soft_avgs=10)"
   ]
  },
  {
   "cell_type": "code",
   "execution_count": null,
   "id": "d6365ba6",
   "metadata": {
    "scrolled": true
   },
   "outputs": [],
   "source": [
    "t = prog.get_time_axis(ro_index=0)\n",
    "fig, axes = plt.subplots(len(config['ro_chs']), 1, figsize=(12,12))\n",
    "for i, ch in enumerate(config['ro_chs']):\n",
    "    plot = axes[i]\n",
    "    plot.plot(t, iq_list[i][:,0], label=\"I value\")\n",
    "    plot.plot(t, iq_list[i][:,1], label=\"Q value\")\n",
    "    plot.plot(t, np.abs(iq_list[i].dot([1,1j])), label=\"magnitude\")\n",
    "    plot.legend()\n",
    "    plot.set_ylabel(\"a.u.\")\n",
    "    plot.set_xlabel(\"us\");\n",
    "    ######## SET THIS VALUE AS YOUR config['trig_time'] #########\n",
    "    plot.axvline(0.75, c='r') \n",
    "\n"
   ]
  },
  {
   "cell_type": "code",
   "execution_count": null,
   "id": "bc65f61e",
   "metadata": {},
   "outputs": [],
   "source": [
    "from tqdm.auto import tqdm\n",
    "config['ro_len'] += 10.0\n",
    "config['pulse_len'] += 10.0\n",
    "config['freq'] = QickSweep1D(\"myloop\", 3800, 4200)\n",
    "# config['freq'] = QickSweep1D(\"myloop\", 3000, 7000)\n",
    "config['steps']=1001\n",
    "\n",
    "freq = 5000\n",
    "soc.rfb_set_gen_filter(config['gen_ch'], fc=0, ftype='bypass')\n",
    "soc.rfb_set_ro_filter(config['ro_ch'], fc=0, ftype='bypass')\n",
    "\n",
    "for ro_bw in tqdm([1.5, 1.0, 0.5, 0.2, 0.1]):\n",
    "#     soc.rfb_set_ro_filter(config['ro_ch'], fc=freq/1000, ftype='bandpass', bw=ro_bw)\n",
    "#     soc.rfb_set_gen_filter(config['gen_ch'], fc=freq/1000, ftype='bandpass', bw=ro_bw)\n",
    "\n",
    "    prog = FreqSweepProgram(soccfg, reps=10, final_delay=1.0, cfg=config)\n",
    "    freqs = prog.get_pulse_param('myro', 'freq', as_array=True)\n",
    "    iq_list = prog.acquire(soc, soft_avgs=1, progress=False)\n",
    "\n",
    "    iq_complex = iq_list[0][0].dot([1,1j])\n",
    "    mags = np.abs(iq_complex)\n",
    "\n",
    "    plt.semilogy(freqs, mags, label=\"RO filter BW %.2f GHz\"%(ro_bw))\n",
    "    # plt.ylabel(\"Phase [cycles]\")\n",
    "    # plt.xlabel(\"Frequency [MHz]\")\n",
    "\n",
    "    # print(\"phase step (cycles):\", phases[1]-phases[0])\n",
    "\n",
    "plt.title(\"filter center = %f MHz\"%(freq))\n",
    "plt.legend();"
   ]
  },
  {
   "cell_type": "code",
   "execution_count": null,
   "id": "94d22940",
   "metadata": {},
   "outputs": [],
   "source": [
    "from tqdm.auto import tqdm\n",
    "config['ro_len'] += 10.0\n",
    "config['pulse_len'] += 10.0\n",
    "config['freq'] = QickSweep1D(\"myloop\", 3800, 4200)\n",
    "# config['freq'] = QickSweep1D(\"myloop\", 3000, 7000)\n",
    "config['steps']=1001\n",
    "\n",
    "freq = 5000\n",
    "soc.rfb_set_gen_filter(config['gen_ch'], fc=0, ftype='bypass')\n",
    "soc.rfb_set_ro_filter(config['ro_ch'], fc=0, ftype='bypass')\n",
    "\n",
    "for ro_bw in tqdm([1.5, 1.0, 0.5, 0.2, 0.1]):\n",
    "#     soc.rfb_set_ro_filter(config['ro_ch'], fc=freq/1000, ftype='bandpass', bw=ro_bw)\n",
    "#     soc.rfb_set_gen_filter(config['gen_ch'], fc=freq/1000, ftype='bandpass', bw=ro_bw)\n",
    "\n",
    "    prog = FreqSweepProgram(soccfg, reps=10, final_delay=1.0, cfg=config)\n",
    "    freqs = prog.get_pulse_param('myro', 'freq', as_array=True)\n",
    "    iq_list = prog.acquire(soc, soft_avgs=1, progress=False)\n",
    "\n",
    "    iq_complex = iq_list[0][0].dot([1,1j])\n",
    "    mags = np.abs(iq_complex)\n",
    "\n",
    "    plt.semilogy(freqs, mags, label=\"RO filter BW %.2f GHz\"%(ro_bw))\n",
    "    # plt.ylabel(\"Phase [cycles]\")\n",
    "    # plt.xlabel(\"Frequency [MHz]\")\n",
    "\n",
    "    # print(\"phase step (cycles):\", phases[1]-phases[0])\n",
    "\n",
    "plt.title(\"filter center = %f MHz\"%(freq))\n",
    "plt.legend();"
   ]
  },
  {
   "cell_type": "code",
   "execution_count": null,
   "id": "ad7f38b3",
   "metadata": {},
   "outputs": [],
   "source": [
    "print(prog.get_pulse_param('myro', 'freq', as_array=True))\n",
    "print(prog.get_pulse_param('mypulse', 'freq', as_array=True))\n"
   ]
  },
  {
   "cell_type": "code",
   "execution_count": null,
   "id": "37cc4c9a",
   "metadata": {},
   "outputs": [],
   "source": []
  },
  {
   "cell_type": "code",
   "execution_count": null,
   "id": "a4df5841",
   "metadata": {},
   "outputs": [],
   "source": []
  },
  {
   "cell_type": "code",
   "execution_count": null,
   "id": "647b54b9",
   "metadata": {},
   "outputs": [],
   "source": [
    "class SimpleSweepProgram2(AveragerProgramV2):\n",
    "    def _initialize(self, cfg):\n",
    "        ro_ch = cfg['ro_ch']\n",
    "        gen_ch = cfg['gen_ch']\n",
    "        \n",
    "        self.declare_gen(ch=gen_ch, nqz=cfg['nqz'])\n",
    "        self.declare_readout(ch=ro_ch, length=cfg['ro_len'])\n",
    "\n",
    "        self.add_readoutconfig(ch=ro_ch, name=\"myro\", \n",
    "                               freq=cfg['freq'], \n",
    "                               gen_ch=gen_ch, \n",
    "                               outsel='input')\n",
    "\n",
    "#         self.add_gauss(ch=gen_ch, name=\"ramp\", sigma=cfg['ramp_len']/10, length=cfg['ramp_len'], even_length=True)\n",
    "#         self.add_pulse(ch=gen_ch, name=\"mypulse\", ro_ch=ro_ch, \n",
    "#                        style=\"flat_top\", \n",
    "#                        envelope=\"ramp\", \n",
    "#                        freq=cfg['freq'], \n",
    "#                        length=cfg['flat_len'],\n",
    "#                        phase=cfg['phase'],\n",
    "#                        gain=cfg['gain'], \n",
    "#                       )\n",
    "        self.add_pulse(ch=gen_ch, name=\"mypulse\", ro_ch=ro_ch, \n",
    "                       style=\"const\", \n",
    "                       freq=cfg['freq'], \n",
    "                       length=cfg['flat_len'],\n",
    "                       phase=cfg['phase'],\n",
    "                       gain=cfg['gain'], \n",
    "#                        mode='periodic'\n",
    "                      )\n",
    "\n",
    "        \n",
    "        self.send_readoutconfig(ch=cfg['ro_ch'], name=\"myro\", t=0)\n",
    "        \n",
    "    def _body(self, cfg):\n",
    "        self.pulse(ch=cfg['gen_ch'], name=\"mypulse\", t=0)\n",
    "        self.trigger(ros=[cfg['ro_ch']], pins=[0], t=cfg['trig_time'], mr=True)"
   ]
  },
  {
   "cell_type": "code",
   "execution_count": null,
   "id": "872edd71",
   "metadata": {},
   "outputs": [],
   "source": [
    "# do a sweep with 5 points and plot decimated\n",
    "config = {'gen_ch': 2,\n",
    "          'ro_ch': 1,\n",
    "          'freq': 5000,\n",
    "          'nqz': 1,\n",
    "          'trig_time': 0.0,\n",
    "          'ro_len': 3.0,\n",
    "          'flat_len': 0.5,\n",
    "          'ramp_len': 0.2,\n",
    "          'phase': 0,\n",
    "          'gain': 1.0\n",
    "         }\n",
    "\n",
    "prog = SimpleSweepProgram2(soccfg, reps=1, final_delay=0.5, cfg=config)\n",
    "\n",
    "\n",
    "\n",
    "freq = config['freq']\n",
    "\n",
    "soc.rfb_set_gen_filter(config['gen_ch'], fc=freq/1000, ftype='bypass')\n",
    "soc.rfb_set_ro_filter(config['ro_ch'], fc=freq/1000, ftype='bypass')\n",
    "\n",
    "\n",
    "\n",
    "# Set Filter.\n",
    "# soc.rfb_set_gen_filter(config['gen_ch'], fc=freq/1000, ftype='bandpass')\n",
    "# soc.rfb_set_gen_filter(config['gen_ch'], fc=2.5, ftype='lowpass')\n",
    "\n",
    "# Set attenuator on DAC.\n",
    "# soc.rfb_set_gen_rf(config['gen_ch'], 5, 5)\n",
    "soc.rfb_set_gen_rf(config['gen_ch'], 10, 30)\n",
    "\n",
    "#######\n",
    "# ADC #\n",
    "#######\n",
    "# Set Filter.\n",
    "# soc.rfb_set_ro_filter(config['ro_ch'], fc=freq/1000, ftype='bandpass')\n",
    "\n",
    "# Set attenuator on ADC.\n",
    "soc.rfb_set_ro_rf(config['ro_ch'], 30)\n",
    "\n",
    "\n",
    "iq_list = prog.acquire_decimated(soc, soft_avgs=10)\n",
    "t = prog.get_time_axis(ro_index=0)\n",
    "\n",
    "iq = iq_list[0]\n",
    "plt.plot(t, iq[:,0], label=\"I value\")\n",
    "plt.plot(t, iq[:,1], label=\"Q value\")\n",
    "# plt.plot(t, np.abs(iq.dot([1,1j])), label=\"mag, step %d\"%(ii))\n",
    "plt.legend()\n",
    "plt.ylabel(\"amplitude [ADU]\")\n",
    "plt.xlabel(\"time [us]\");"
   ]
  },
  {
   "cell_type": "code",
   "execution_count": null,
   "id": "a0dc9a7a",
   "metadata": {},
   "outputs": [],
   "source": [
    "soc.arm_mr(ch=config['ro_ch'])\n",
    "iq_list = prog.acquire_decimated(soc, soft_avgs=1)\n",
    "# look at the MR buffer just to see it works\n",
    "iq_mr = soc.get_mr()[800:900]\n",
    "t = prog.get_time_axis_mr(config['ro_ch'], iq_mr)\n",
    "plt.plot(t, iq_mr[:,0],label=\"I\")\n",
    "plt.plot(t, iq_mr[:,1],label=\"Q\")\n",
    "plt.xlabel(\"us\")\n",
    "plt.legend();"
   ]
  },
  {
   "cell_type": "code",
   "execution_count": null,
   "id": "c45f4383",
   "metadata": {},
   "outputs": [],
   "source": [
    "from scipy.signal import welch\n",
    "from numpy.fft import fftshift\n",
    "\n",
    "soc.rfb_set_gen_filter(config['gen_ch'], fc=freq/1000, ftype='bypass')\n",
    "soc.rfb_set_ro_filter(config['ro_ch'], fc=freq/1000, ftype='bypass')\n",
    "\n",
    "# soc.rfb_set_gen_filter(config['gen_ch'], fc=freq/1000, ftype='bypass')\n",
    "# soc.rfb_set_ro_filter(config['ro_ch'], fc=freq/1000, ftype='bandpass')\n",
    "\n",
    "soc.arm_mr(ch=config['ro_ch'])\n",
    "iq_list = prog.acquire_decimated(soc, soft_avgs=1)\n",
    "\n",
    "iq_mr = soc.get_mr()[:,0]\n",
    "fs_mr = soccfg['readouts'][config['ro_ch']]['fs']\n",
    "# fft_freqs, psd = fftshift(welch(iq_mr, fs_mr, return_onesided=True, nperseg=128, detrend=False), axes=1)\n",
    "fft_freqs, psd = welch(iq_mr, fs_mr, return_onesided=True, nperseg=128, detrend=False)\n",
    "plt.semilogy(fft_freqs, psd)\n",
    "plt.xlabel(\"MHz\")"
   ]
  },
  {
   "cell_type": "code",
   "execution_count": null,
   "id": "56f4b495",
   "metadata": {},
   "outputs": [],
   "source": []
  },
  {
   "cell_type": "code",
   "execution_count": null,
   "id": "e475b66c",
   "metadata": {},
   "outputs": [],
   "source": [
    "for chain in soc.dac_chains:\n",
    "    chain.set_filter(fc=1.5, bw=1, ftype='bypass')\n",
    "    chain.set_rf(5,5)"
   ]
  },
  {
   "cell_type": "code",
   "execution_count": null,
   "id": "6603f7e7",
   "metadata": {},
   "outputs": [],
   "source": [
    "for chain in soc.adc_chains:\n",
    "    chain.set_filter(fc=1.5, bw=1, ftype='bypass')\n",
    "    chain.set_attn_db(5)"
   ]
  },
  {
   "cell_type": "code",
   "execution_count": null,
   "id": "da55e03d",
   "metadata": {},
   "outputs": [],
   "source": [
    "rfb_cfg = {'gen_ch': 2,\n",
    "        'ro_ch': 1,\n",
    "        'gen_att': (10,30),\n",
    "        'ro_att': 30,\n",
    "        }\n",
    "soc.rfb_set_gen_rf(rfb_cfg['gen_ch'], *rfb_cfg['gen_att'])\n",
    "soc.rfb_set_ro_rf(rfb_cfg['ro_ch'], rfb_cfg['ro_att'])\n",
    "\n",
    "soc.rfb_set_ro_filter(rfb_cfg['ro_ch'], fc=1.0, ftype='bypass')\n",
    "soc.rfb_set_gen_filter(rfb_cfg['gen_ch'], fc=1.0, ftype='bypass')\n"
   ]
  },
  {
   "cell_type": "code",
   "execution_count": null,
   "id": "27e65361",
   "metadata": {},
   "outputs": [],
   "source": [
    "class FreqSweepProgram(AveragerProgramV2):\n",
    "    def _initialize(self, cfg):\n",
    "        ro_ch = cfg['ro_ch']\n",
    "        gen_ch = cfg['gen_ch']\n",
    "        \n",
    "        self.declare_gen(ch=gen_ch, nqz=cfg['nqz'])\n",
    "        self.declare_readout(ch=ro_ch, length=cfg['ro_len'])\n",
    "\n",
    "        self.add_loop(\"myloop\", self.cfg[\"steps\"])\n",
    "        self.add_readoutconfig(ch=ro_ch, name=\"myro\", freq=cfg['freq'], gen_ch=gen_ch)\n",
    "\n",
    "        self.add_pulse(ch=gen_ch, name=\"mypulse\", ro_ch=ro_ch, \n",
    "                       style=\"const\", \n",
    "                       freq=cfg['freq'], \n",
    "                       length=cfg['pulse_len'],\n",
    "                       phase=cfg['phase'],\n",
    "                       gain=cfg['gain'], \n",
    "                      )\n",
    "        \n",
    "    def _body(self, cfg):\n",
    "        # if you delay the config by too long, you can see the readout get reconfigured in the middle of your pulse\n",
    "        self.send_readoutconfig(ch=cfg['ro_ch'], name=\"myro\", t=0)\n",
    "        self.pulse(ch=cfg['gen_ch'], name=\"mypulse\", t=0)\n",
    "        self.trigger(ros=[cfg['ro_ch']], pins=[0], t=cfg['trig_time'])\n",
    "\n",
    "# do a sweep with 5 points and plot decimated\n",
    "config = {'steps': 5,\n",
    "          'gen_ch': 2,\n",
    "          'ro_ch': 1,\n",
    "          'freq': QickSweep1D(\"myloop\", 4000, 7000),\n",
    "          'nqz': 2,\n",
    "          'trig_time': 0.4,\n",
    "          'ro_len': 0.3,\n",
    "          'pulse_len': 0.2,\n",
    "          'phase': 0,\n",
    "          'gain': 1.0\n",
    "         }\n",
    "\n",
    "soc.rfb_set_gen_rf(config['gen_ch'], 10, 30)\n",
    "soc.rfb_set_ro_rf(config['ro_ch'], 30)\n",
    "\n",
    "prog = FreqSweepProgram(soccfg, reps=1, final_delay=0.5, cfg=config)\n",
    "\n",
    "iq_list = prog.acquire_decimated(soc, soft_avgs=1)\n",
    "t = prog.get_time_axis(ro_index=0)\n",
    "\n",
    "for ii, iq in enumerate(iq_list[0]):\n",
    "#     plt.plot(t, iq[:,0], label=\"I value, step %d\"%(ii))\n",
    "#     plt.plot(t, iq[:,1], label=\"Q value, step %d\"%(ii))\n",
    "    plt.plot(t, np.abs(iq.dot([1,1j])), label=\"mag, step %d\"%(ii))\n",
    "plt.legend()\n",
    "plt.ylabel(\"amplitude [ADU]\")\n",
    "plt.xlabel(\"time [us]\");"
   ]
  },
  {
   "cell_type": "code",
   "execution_count": null,
   "id": "04b743c1",
   "metadata": {},
   "outputs": [],
   "source": [
    "from tqdm.auto import tqdm\n",
    "config['freq'] = QickSweep1D(\"myloop\", 3000, 6000)\n",
    "config['steps']=5001\n",
    "\n",
    "freq = 5000\n",
    "\n",
    "for ro_bw in tqdm([1.5, 1.0, 0.5, 0.2, 0.1]):\n",
    "#     soc.rfb_set_ro_filter(config['ro_ch'], fc=freq/1000, ftype='bypass')\n",
    "\n",
    "    soc.rfb_set_ro_filter(config['ro_ch'], fc=freq/1000, ftype='bandpass', bw=ro_bw)\n",
    "#     for chain in soc.adc_chains:\n",
    "# #         chain.set_filter(fc=5.0, ftype='bandpass', bw=ro_bw)\n",
    "#         chain.set_filter(fc=9.0, ftype='lowpass', bw=ro_bw)\n",
    "\n",
    "#     soc.rfb_set_gen_filter(config['gen_ch'], fc=freq/1000, ftype='bandpass', bw=ro_bw)\n",
    "#     soc.rfb_set_gen_filter(config['gen_ch'], fc=3.0, ftype='bandpass', bw=0.5)\n",
    "\n",
    "    prog = FreqSweepProgram(soccfg, reps=100, final_delay=1.0, cfg=config)\n",
    "    freqs = prog.get_pulse_param('myro', 'freq', as_array=True)\n",
    "    iq_list = prog.acquire(soc, soft_avgs=1, progress=False)\n",
    "    # plt.plot(np.angle(iq_list[0][0].dot([1,1j]), deg=True))\n",
    "    # plt.plot(iq_list[0][0,:,0], iq_list[0][0,:,1], '.')\n",
    "    # plt.ylabel(\"Q [ADU]\")\n",
    "    # plt.xlabel(\"I [ADU]\");\n",
    "\n",
    "    iq_complex = iq_list[0][0].dot([1,1j])\n",
    "    mags = np.abs(iq_complex)\n",
    "\n",
    "    plt.semilogy(freqs, mags, label=\"RO filter BW %.2f GHz\"%(ro_bw))\n",
    "    # plt.ylabel(\"Phase [cycles]\")\n",
    "    # plt.xlabel(\"Frequency [MHz]\")\n",
    "\n",
    "    # print(\"phase step (cycles):\", phases[1]-phases[0])\n",
    "\n",
    "plt.title(\"filter center = %f MHz\"%(freq))\n",
    "plt.legend();"
   ]
  },
  {
   "cell_type": "code",
   "execution_count": null,
   "id": "11c60790",
   "metadata": {},
   "outputs": [],
   "source": []
  },
  {
   "cell_type": "code",
   "execution_count": null,
   "id": "9dd9243e",
   "metadata": {},
   "outputs": [],
   "source": []
  },
  {
   "cell_type": "code",
   "execution_count": null,
   "id": "356d54f8",
   "metadata": {},
   "outputs": [],
   "source": []
  },
  {
   "cell_type": "code",
   "execution_count": null,
   "id": "9dea4a1b",
   "metadata": {},
   "outputs": [],
   "source": []
  },
  {
   "cell_type": "code",
   "execution_count": null,
   "id": "1c748cb2",
   "metadata": {},
   "outputs": [],
   "source": []
  },
  {
   "cell_type": "code",
   "execution_count": null,
   "id": "99b037ec",
   "metadata": {},
   "outputs": [],
   "source": [
    "class LoopbackProgram(AveragerProgramV2):\n",
    "    def _initialize(self, cfg):\n",
    "        ro_ch = cfg['ro_ch']\n",
    "        gen_ch = cfg['gen_ch']\n",
    "        \n",
    "        self.declare_gen(ch=gen_ch, nqz=cfg['nqz'])\n",
    "        self.declare_readout(ch=ro_ch, length=cfg['ro_len'])\n",
    "\n",
    "        self.add_readoutconfig(ch=ro_ch, name=\"myro\", \n",
    "                               freq=cfg['freq'], \n",
    "                               gen_ch=gen_ch, \n",
    "                               outsel=cfg['ro_outsel'])\n",
    "\n",
    "        self.add_pulse(ch=gen_ch, name=\"mypulse\", ro_ch=ro_ch, \n",
    "                       style=\"const\", \n",
    "                       freq=cfg['freq'], \n",
    "                       length=cfg['pulse_len'],\n",
    "                       phase=cfg['phase'],\n",
    "                       gain=cfg['gain'], \n",
    "                      )\n",
    "        \n",
    "        ramp_len = 2.0\n",
    "#         self.add_gauss(ch=gen_ch, name=\"ramp\", sigma=ramp_len/10, length=ramp_len, even_length=True)\n",
    "        self.add_triangle(ch=gen_ch, name=\"triangle\", length=ramp_len, even_length=True)\n",
    "        \n",
    "#         self.add_pulse(ch=gen_ch, name=\"mygaus\", ro_ch=ro_ch, \n",
    "#                        style=\"arb\", \n",
    "#                        envelope=\"ramp\", \n",
    "#                        freq=cfg['freq'], \n",
    "#                        phase=0,\n",
    "#                        gain=1.0, \n",
    "#                       )\n",
    "        self.add_pulse(ch=gen_ch, name=\"mytri\", ro_ch=ro_ch, \n",
    "                       style=\"arb\", \n",
    "                       envelope=\"triangle\", \n",
    "                       freq=cfg['freq'], \n",
    "                       phase=0,\n",
    "                       gain=1.0, \n",
    "                      )\n",
    "        \n",
    "        self.send_readoutconfig(ch=cfg['ro_ch'], name=\"myro\", t=0)\n",
    "        \n",
    "    def _body(self, cfg):\n",
    "        self.pulse(ch=cfg['gen_ch'], name=\"mytri\", t=0)\n",
    "        self.trigger(ros=[cfg['ro_ch']], pins=[0], t=cfg['trig_time'], mr=True)\n",
    "        \n",
    "        \n",
    "        \n",
    "config = {'gen_ch': 2,\n",
    "          'ro_ch': 1,\n",
    "          'freq': 3000,\n",
    "          'nqz': 1,\n",
    "          'trig_time': 0.0,\n",
    "          'ro_len': 3.0,\n",
    "          'ro_outsel': 'product',\n",
    "          'pulse_len': 0.5,\n",
    "          'phase': 0,\n",
    "          'gain': 1.0\n",
    "         }\n",
    "\n",
    "prog = LoopbackProgram(soccfg, reps=1, final_delay=0.5, cfg=config)\n",
    "\n",
    "freq = config['freq']\n",
    "\n",
    "# soc.rfb_set_gen_filter(config['gen_ch'], fc=freq/1000, ftype='bypass')\n",
    "# soc.rfb_set_ro_filter(config['ro_ch'], fc=freq/1000, ftype='bypass')\n",
    "\n",
    "\n",
    "\n",
    "# # Set Filter.\n",
    "# # soc.rfb_set_gen_filter(config['gen_ch'], fc=freq/1000, ftype='bandpass')\n",
    "# # soc.rfb_set_gen_filter(config['gen_ch'], fc=2.5, ftype='lowpass')\n",
    "\n",
    "# # Set attenuator on DAC.\n",
    "# # soc.rfb_set_gen_rf(config['gen_ch'], 5, 5)\n",
    "# soc.rfb_set_gen_rf(config['gen_ch'], 5, 20)\n",
    "\n",
    "# #######\n",
    "# # ADC #\n",
    "# #######\n",
    "# # Set Filter.\n",
    "# # soc.rfb_set_ro_filter(config['ro_ch'], fc=freq/1000, ftype='bandpass')\n",
    "\n",
    "# # Set attenuator on ADC.\n",
    "# soc.rfb_set_ro_rf(config['ro_ch'], 20)\n",
    "\n",
    "rfb_cfg = {'gen_ch': 2,\n",
    "        'ro_ch': 1,\n",
    "        'gen_att': (10,30),\n",
    "        'ro_att': 30,\n",
    "        }\n",
    "soc.rfb_set_gen_rf(rfb_cfg['gen_ch'], *rfb_cfg['gen_att'])\n",
    "soc.rfb_set_ro_rf(rfb_cfg['ro_ch'], rfb_cfg['ro_att'])\n",
    "\n",
    "soc.rfb_set_ro_filter(rfb_cfg['ro_ch'], fc=1.0, ftype='bypass')\n",
    "soc.rfb_set_gen_filter(rfb_cfg['gen_ch'], fc=1.0, ftype='bypass')\n",
    "\n",
    "iq_list = prog.acquire_decimated(soc, soft_avgs=10)\n",
    "t = prog.get_time_axis(ro_index=0)\n",
    "\n",
    "iq = iq_list[0]\n",
    "plt.plot(t, iq[:,0], label=\"I value\")\n",
    "plt.plot(t, iq[:,1], label=\"Q value\")\n",
    "# plt.plot(t, np.abs(iq.dot([1,1j])), label=\"mag, step %d\"%(ii))\n",
    "plt.legend()\n",
    "plt.ylabel(\"amplitude [ADU]\")\n",
    "plt.xlabel(\"time [us]\");"
   ]
  },
  {
   "cell_type": "code",
   "execution_count": null,
   "id": "37c59c23",
   "metadata": {},
   "outputs": [],
   "source": []
  },
  {
   "cell_type": "code",
   "execution_count": null,
   "id": "d739cdc2",
   "metadata": {},
   "outputs": [],
   "source": []
  },
  {
   "cell_type": "code",
   "execution_count": null,
   "id": "6118357e",
   "metadata": {},
   "outputs": [],
   "source": []
  },
  {
   "cell_type": "code",
   "execution_count": null,
   "id": "1770bcc9",
   "metadata": {},
   "outputs": [],
   "source": []
  },
  {
   "cell_type": "code",
   "execution_count": null,
   "id": "a5e7c4fa",
   "metadata": {},
   "outputs": [],
   "source": []
  },
  {
   "cell_type": "code",
   "execution_count": null,
   "id": "1f61d999",
   "metadata": {},
   "outputs": [],
   "source": [
    "##########################################\n",
    "### One generator/readout and raw-data ###\n",
    "##########################################\n",
    "class ReadoutTest(AveragerProgram):\n",
    "    def initialize(self):\n",
    "        # Set the nyquist zone for the DACs.\n",
    "        self.declare_gen(ch=self.cfg[\"gen_ch\"], nqz=self.cfg['gen_nqz'])\n",
    "        \n",
    "        # DAC channel.\n",
    "        freq = self.freq2reg(self.cfg['pulse_freq'], gen_ch=self.cfg['gen_ch'], ro_ch=self.cfg['ro_ch'][0])\n",
    "        self.set_pulse_registers(ch     = self.cfg['gen_ch'], \n",
    "                                 style  = 'const', \n",
    "                                 freq   = freq,\n",
    "                                 phase  = 0, \n",
    "                                 gain   = self.cfg['pulse_gain'], \n",
    "                                 length = self.us2cycles(self.cfg['pulse_length'],gen_ch=self.cfg['gen_ch']))\n",
    "        \n",
    "        # Readout.\n",
    "        self.declare_readout(ch      = self.cfg['ro_ch'][0], \n",
    "                             length  = self.us2cycles(self.cfg['ro_length'], ro_ch = self.cfg['ro_ch'][0]),\n",
    "                             freq    = self.cfg['ro_freq'],\n",
    "                             gen_ch  = self.cfg['gen_ch'])\n",
    "        \n",
    "        self.synci(200)  # give processor some time to configure pulses\n",
    "    \n",
    "    def body(self):       \n",
    "        self.measure(pulse_ch        = self.cfg['gen_ch'], \n",
    "                     adcs            = self.cfg['ro_ch'],\n",
    "                     pins            = [0],\n",
    "                     t               = self.us2cycles(self.cfg['pulse_start']),\n",
    "                     adc_trig_offset = self.us2cycles(self.cfg['ro_offset'], ro_ch = self.cfg['ro_ch'][0]),\n",
    "                     )        \n",
    "\n",
    "config={\"ro_ch\"       : [5],\n",
    "        \"ro_length\"   : 40,\n",
    "        \"ro_freq\"     : 4000,\n",
    "        \"ro_offset\"   : 0,\n",
    "        \n",
    "        \"gen_ch\"      : 12,        \n",
    "        \"gen_nqz\"     : 2,\n",
    "        \"pulse_length\": 20,\n",
    "        \"pulse_start\" : 10,\n",
    "        \"pulse_gain\"  : 30000,\n",
    "        \"pulse_freq\"  : 4000,\n",
    "        \n",
    "        \"reps\"        : 1,\n",
    "        \"period\"      : 20\n",
    "       }\n",
    "\n",
    "########################\n",
    "### RF Board Setting ###\n",
    "########################\n",
    "\n",
    "#######\n",
    "# DAC #\n",
    "#######\n",
    "freq = config['pulse_freq']\n",
    "\n",
    "# Set Filter.\n",
    "# soc.rfb_set_gen_filter(config['gen_ch'], fc=fc, ftype='bandpass')\n",
    "soc.rfb_set_gen_filter(config['gen_ch'], fc=2.5, ftype='lowpass')\n",
    "\n",
    "# Set attenuator on DAC.\n",
    "soc.rfb_set_gen_rf(config['gen_ch'], 15, 20)\n",
    "\n",
    "#######\n",
    "# ADC #\n",
    "#######\n",
    "# Set Filter.\n",
    "soc.rfb_set_ro_filter(config['ro_ch'][0], fc=freq/1000, ftype='bandpass')\n",
    "\n",
    "# Set attenuator on ADC.\n",
    "soc.rfb_set_ro_rf(config['ro_ch'][0], 20)\n",
    "\n",
    "prog = ReadoutTest(soccfg, config)\n",
    "iq_list = prog.acquire_decimated(soc)\n",
    "\n",
    "# Plot Captured Data.\n",
    "plt.figure(dpi=200)\n",
    "\n",
    "yi = iq_list[0][0]\n",
    "yq = iq_list[0][1]\n",
    "t = soccfg.cycles2us(ro_ch=config['ro_ch'][0], cycles=np.arange(len(iq_list[0][0])))\n",
    "\n",
    "plt.plot(t,yi)\n",
    "plt.plot(t,yq)\n",
    "    \n",
    "plt.xlabel('t [us]');\n",
    "plt.legend(['I','Q']);\n"
   ]
  },
  {
   "cell_type": "code",
   "execution_count": null,
   "id": "31ec01e3",
   "metadata": {},
   "outputs": [],
   "source": [
    "from tqdm.auto import tqdm\n",
    "for i in tqdm(range(1000)):\n",
    "    soc.rfb_set_gen_rf(gen_ch=0, att1=15, att2=20)\n"
   ]
  },
  {
   "cell_type": "markdown",
   "id": "7d3a927e",
   "metadata": {},
   "source": [
    "### little note on the generator outputs\n",
    "This firmware uses the \"tmux\" which multiplexes multiple generators onto each tProc output. Generally this works transparently, but be aware that if you try to play simultaneous pulses on generators that share a tmux channel, the pulses will get offset by a tProc clock cycle (or something like that)."
   ]
  },
  {
   "cell_type": "code",
   "execution_count": null,
   "id": "5858be3a",
   "metadata": {},
   "outputs": [],
   "source": [
    "soccfg['gens']"
   ]
  },
  {
   "cell_type": "code",
   "execution_count": null,
   "id": "8ca89fd0",
   "metadata": {},
   "outputs": [],
   "source": [
    "[(i,gen['tproc_ch']) for i,gen in enumerate(soccfg['gens'])]"
   ]
  },
  {
   "cell_type": "code",
   "execution_count": null,
   "id": "ab69b004",
   "metadata": {},
   "outputs": [],
   "source": [
    "soc.ip_dict.keys()"
   ]
  },
  {
   "cell_type": "markdown",
   "id": "8dac28af",
   "metadata": {},
   "source": [
    "### playing with LEDs (and ribbon I/O connector)\n",
    "The LEDs are wired to the PMOD0 connector on the ZCU216, the ribbon is wired to PMOD1. In this firmware these are connected to an AxiGPIO which is controlled by software (vs. in most QICK firmware, where the PMODs are connected to the tProc). So these are for slow control.\n",
    "\n",
    "The LEDs are very dim (trying to drive the LEDs directly with PMOD outputs?).\n",
    "\n",
    "There is also some weirdness with the AxiGPIO we're using for this.\n",
    "\n",
    "The ribbon connector works identically (`soc.pmod_bits_gpio` instead of `soc.pmod_led_gpio`), except that the pin mapping seems to be screwed up somewhere, such that even and odd pins are swapped: PMOD1_0=ribbon signal 1, PMOD 1_1=ribbon signal 0, etc. The ribbon pins should be input-capable, but I haven't checked."
   ]
  },
  {
   "cell_type": "code",
   "execution_count": null,
   "id": "7aebff6e",
   "metadata": {
    "scrolled": true
   },
   "outputs": [],
   "source": [
    "help(soc.pmod_led_gpio)"
   ]
  },
  {
   "cell_type": "code",
   "execution_count": null,
   "id": "5feff16d",
   "metadata": {},
   "outputs": [],
   "source": [
    "# this works\n",
    "while True:\n",
    "    for ch in soc.pmod_led_gpio:\n",
    "        ch.on()\n",
    "    time.sleep(1)\n",
    "    for ch in soc.pmod_led_gpio:\n",
    "        ch.off()\n",
    "    time.sleep(1)\n",
    "    "
   ]
  },
  {
   "cell_type": "code",
   "execution_count": null,
   "id": "83e700dc",
   "metadata": {},
   "outputs": [],
   "source": [
    "# this works\n",
    "while True:\n",
    "    for i in range(8):\n",
    "        for j in range(8):\n",
    "            if i==j:\n",
    "                soc.pmod_led_gpio[j].on()\n",
    "            else:\n",
    "                soc.pmod_led_gpio[j].off()\n",
    "        time.sleep(0.2)"
   ]
  },
  {
   "cell_type": "code",
   "execution_count": null,
   "id": "18da5393",
   "metadata": {},
   "outputs": [],
   "source": [
    "# this works\n",
    "while True:\n",
    "    for i in range(8):\n",
    "        for j in range(8):\n",
    "            if i==j:\n",
    "                soc.pmod_led_gpio[j].write(1)\n",
    "            else:\n",
    "                soc.pmod_led_gpio[j].write(0)\n",
    "        time.sleep(0.2)"
   ]
  },
  {
   "cell_type": "code",
   "execution_count": null,
   "id": "debb667e",
   "metadata": {},
   "outputs": [],
   "source": [
    "# this works\n",
    "while True:\n",
    "    for i in range(8):\n",
    "        soc.pmod_led_gpio.channel1.write(val=1<<i, mask=0xFF)\n",
    "        time.sleep(0.2)\n"
   ]
  },
  {
   "cell_type": "code",
   "execution_count": null,
   "id": "3f3d3135",
   "metadata": {},
   "outputs": [],
   "source": [
    "# this doesn't work, not sure why\n",
    "while True:\n",
    "    soc.pmod_led_gpio.channel1.write(0x0,0xFF)\n",
    "    time.sleep(1)\n",
    "    soc.pmod_led_gpio.channel1.write(0xFF,0xFF)\n",
    "    time.sleep(1)\n",
    "    "
   ]
  },
  {
   "cell_type": "code",
   "execution_count": null,
   "id": "9497f45f",
   "metadata": {},
   "outputs": [],
   "source": [
    "help(soc.pmod_led_gpio.channel1.write)"
   ]
  }
 ],
 "metadata": {
  "kernelspec": {
   "display_name": "Python 3 (ipykernel)",
   "language": "python",
   "name": "python3"
  },
  "language_info": {
   "codemirror_mode": {
    "name": "ipython",
    "version": 3
   },
   "file_extension": ".py",
   "mimetype": "text/x-python",
   "name": "python",
   "nbconvert_exporter": "python",
   "pygments_lexer": "ipython3",
   "version": "3.9.6"
  }
 },
 "nbformat": 4,
 "nbformat_minor": 5
}
